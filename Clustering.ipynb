{
  "metadata": {
    "kernelspec": {
      "language": "python",
      "display_name": "Python 3",
      "name": "python3"
    },
    "language_info": {
      "name": "python",
      "version": "3.10.14",
      "mimetype": "text/x-python",
      "codemirror_mode": {
        "name": "ipython",
        "version": 3
      },
      "pygments_lexer": "ipython3",
      "nbconvert_exporter": "python",
      "file_extension": ".py"
    },
    "kaggle": {
      "accelerator": "none",
      "dataSources": [
        {
          "sourceId": 3782728,
          "sourceType": "datasetVersion",
          "datasetId": 1692
        }
      ],
      "dockerImageVersionId": 30804,
      "isInternetEnabled": true,
      "language": "python",
      "sourceType": "notebook",
      "isGpuEnabled": false
    },
    "colab": {
      "provenance": []
    }
  },
  "nbformat_minor": 0,
  "nbformat": 4,
  "cells": [
    {
      "source": [
        "# IMPORTANT: RUN THIS CELL IN ORDER TO IMPORT YOUR KAGGLE DATA SOURCES,\n",
        "# THEN FEEL FREE TO DELETE THIS CELL.\n",
        "# NOTE: THIS NOTEBOOK ENVIRONMENT DIFFERS FROM KAGGLE'S PYTHON\n",
        "# ENVIRONMENT SO THERE MAY BE MISSING LIBRARIES USED BY YOUR\n",
        "# NOTEBOOK.\n",
        "import kagglehub\n",
        "therohk_million_headlines_path = kagglehub.dataset_download('therohk/million-headlines')\n",
        "\n",
        "print('Data source import complete.')\n"
      ],
      "metadata": {
        "id": "RGPIgzxw6fnl",
        "outputId": "c8d625d3-6085-41f3-e693-81f5c539889a",
        "colab": {
          "base_uri": "https://localhost:8080/"
        }
      },
      "cell_type": "code",
      "outputs": [
        {
          "output_type": "stream",
          "name": "stdout",
          "text": [
            "Warning: Looks like you're using an outdated `kagglehub` version, please consider updating (latest version: 0.3.5)\n",
            "Data source import complete.\n"
          ]
        }
      ],
      "execution_count": 18
    },
    {
      "cell_type": "code",
      "source": [
        "import numpy as np\n",
        "import pandas as pd\n",
        "import matplotlib.pyplot as plt\n",
        "import seaborn as sns\n",
        "from sklearn.feature_extraction import text\n",
        "from sklearn.feature_extraction.text import TfidfVectorizer\n",
        "from sklearn.cluster import KMeans\n",
        "from nltk.tokenize import RegexpTokenizer\n",
        "from nltk.stem.snowball import SnowballStemmer\n",
        "%matplotlib inline"
      ],
      "metadata": {
        "trusted": true,
        "execution": {
          "iopub.status.busy": "2024-12-07T06:58:15.680864Z",
          "iopub.execute_input": "2024-12-07T06:58:15.681964Z",
          "iopub.status.idle": "2024-12-07T06:58:15.70022Z",
          "shell.execute_reply.started": "2024-12-07T06:58:15.68192Z",
          "shell.execute_reply": "2024-12-07T06:58:15.698883Z"
        },
        "id": "lqxR9IEe6fnn"
      },
      "outputs": [],
      "execution_count": 19
    },
    {
      "cell_type": "code",
      "source": [
        "data = pd.read_csv(\"abcnews-date-text.csv\", on_bad_lines='skip', usecols=[\"headline_text\"])\n",
        "data = data.head(50000)\n",
        "data.head()"
      ],
      "metadata": {
        "trusted": true,
        "execution": {
          "iopub.status.busy": "2024-12-07T06:58:28.960594Z",
          "iopub.execute_input": "2024-12-07T06:58:28.961949Z",
          "iopub.status.idle": "2024-12-07T06:58:29.117659Z",
          "shell.execute_reply.started": "2024-12-07T06:58:28.961884Z",
          "shell.execute_reply": "2024-12-07T06:58:29.115672Z"
        },
        "id": "ZXlLm0gS6fnn",
        "outputId": "0aae0bde-64a3-4191-d179-858b60fce2e3",
        "colab": {
          "base_uri": "https://localhost:8080/",
          "height": 206
        }
      },
      "outputs": [
        {
          "output_type": "execute_result",
          "data": {
            "text/plain": [
              "                                       headline_text\n",
              "0  aba decides against community broadcasting lic...\n",
              "1     act fire witnesses must be aware of defamation\n",
              "2     a g calls for infrastructure protection summit\n",
              "3           air nz staff in aust strike for pay rise\n",
              "4      air nz strike to affect australian travellers"
            ],
            "text/html": [
              "\n",
              "  <div id=\"df-550fc86b-5dcc-47dc-833a-7baf86f76d5b\" class=\"colab-df-container\">\n",
              "    <div>\n",
              "<style scoped>\n",
              "    .dataframe tbody tr th:only-of-type {\n",
              "        vertical-align: middle;\n",
              "    }\n",
              "\n",
              "    .dataframe tbody tr th {\n",
              "        vertical-align: top;\n",
              "    }\n",
              "\n",
              "    .dataframe thead th {\n",
              "        text-align: right;\n",
              "    }\n",
              "</style>\n",
              "<table border=\"1\" class=\"dataframe\">\n",
              "  <thead>\n",
              "    <tr style=\"text-align: right;\">\n",
              "      <th></th>\n",
              "      <th>headline_text</th>\n",
              "    </tr>\n",
              "  </thead>\n",
              "  <tbody>\n",
              "    <tr>\n",
              "      <th>0</th>\n",
              "      <td>aba decides against community broadcasting lic...</td>\n",
              "    </tr>\n",
              "    <tr>\n",
              "      <th>1</th>\n",
              "      <td>act fire witnesses must be aware of defamation</td>\n",
              "    </tr>\n",
              "    <tr>\n",
              "      <th>2</th>\n",
              "      <td>a g calls for infrastructure protection summit</td>\n",
              "    </tr>\n",
              "    <tr>\n",
              "      <th>3</th>\n",
              "      <td>air nz staff in aust strike for pay rise</td>\n",
              "    </tr>\n",
              "    <tr>\n",
              "      <th>4</th>\n",
              "      <td>air nz strike to affect australian travellers</td>\n",
              "    </tr>\n",
              "  </tbody>\n",
              "</table>\n",
              "</div>\n",
              "    <div class=\"colab-df-buttons\">\n",
              "\n",
              "  <div class=\"colab-df-container\">\n",
              "    <button class=\"colab-df-convert\" onclick=\"convertToInteractive('df-550fc86b-5dcc-47dc-833a-7baf86f76d5b')\"\n",
              "            title=\"Convert this dataframe to an interactive table.\"\n",
              "            style=\"display:none;\">\n",
              "\n",
              "  <svg xmlns=\"http://www.w3.org/2000/svg\" height=\"24px\" viewBox=\"0 -960 960 960\">\n",
              "    <path d=\"M120-120v-720h720v720H120Zm60-500h600v-160H180v160Zm220 220h160v-160H400v160Zm0 220h160v-160H400v160ZM180-400h160v-160H180v160Zm440 0h160v-160H620v160ZM180-180h160v-160H180v160Zm440 0h160v-160H620v160Z\"/>\n",
              "  </svg>\n",
              "    </button>\n",
              "\n",
              "  <style>\n",
              "    .colab-df-container {\n",
              "      display:flex;\n",
              "      gap: 12px;\n",
              "    }\n",
              "\n",
              "    .colab-df-convert {\n",
              "      background-color: #E8F0FE;\n",
              "      border: none;\n",
              "      border-radius: 50%;\n",
              "      cursor: pointer;\n",
              "      display: none;\n",
              "      fill: #1967D2;\n",
              "      height: 32px;\n",
              "      padding: 0 0 0 0;\n",
              "      width: 32px;\n",
              "    }\n",
              "\n",
              "    .colab-df-convert:hover {\n",
              "      background-color: #E2EBFA;\n",
              "      box-shadow: 0px 1px 2px rgba(60, 64, 67, 0.3), 0px 1px 3px 1px rgba(60, 64, 67, 0.15);\n",
              "      fill: #174EA6;\n",
              "    }\n",
              "\n",
              "    .colab-df-buttons div {\n",
              "      margin-bottom: 4px;\n",
              "    }\n",
              "\n",
              "    [theme=dark] .colab-df-convert {\n",
              "      background-color: #3B4455;\n",
              "      fill: #D2E3FC;\n",
              "    }\n",
              "\n",
              "    [theme=dark] .colab-df-convert:hover {\n",
              "      background-color: #434B5C;\n",
              "      box-shadow: 0px 1px 3px 1px rgba(0, 0, 0, 0.15);\n",
              "      filter: drop-shadow(0px 1px 2px rgba(0, 0, 0, 0.3));\n",
              "      fill: #FFFFFF;\n",
              "    }\n",
              "  </style>\n",
              "\n",
              "    <script>\n",
              "      const buttonEl =\n",
              "        document.querySelector('#df-550fc86b-5dcc-47dc-833a-7baf86f76d5b button.colab-df-convert');\n",
              "      buttonEl.style.display =\n",
              "        google.colab.kernel.accessAllowed ? 'block' : 'none';\n",
              "\n",
              "      async function convertToInteractive(key) {\n",
              "        const element = document.querySelector('#df-550fc86b-5dcc-47dc-833a-7baf86f76d5b');\n",
              "        const dataTable =\n",
              "          await google.colab.kernel.invokeFunction('convertToInteractive',\n",
              "                                                    [key], {});\n",
              "        if (!dataTable) return;\n",
              "\n",
              "        const docLinkHtml = 'Like what you see? Visit the ' +\n",
              "          '<a target=\"_blank\" href=https://colab.research.google.com/notebooks/data_table.ipynb>data table notebook</a>'\n",
              "          + ' to learn more about interactive tables.';\n",
              "        element.innerHTML = '';\n",
              "        dataTable['output_type'] = 'display_data';\n",
              "        await google.colab.output.renderOutput(dataTable, element);\n",
              "        const docLink = document.createElement('div');\n",
              "        docLink.innerHTML = docLinkHtml;\n",
              "        element.appendChild(docLink);\n",
              "      }\n",
              "    </script>\n",
              "  </div>\n",
              "\n",
              "\n",
              "<div id=\"df-2eb90b08-a3c5-4356-bdaf-91cb0b504d05\">\n",
              "  <button class=\"colab-df-quickchart\" onclick=\"quickchart('df-2eb90b08-a3c5-4356-bdaf-91cb0b504d05')\"\n",
              "            title=\"Suggest charts\"\n",
              "            style=\"display:none;\">\n",
              "\n",
              "<svg xmlns=\"http://www.w3.org/2000/svg\" height=\"24px\"viewBox=\"0 0 24 24\"\n",
              "     width=\"24px\">\n",
              "    <g>\n",
              "        <path d=\"M19 3H5c-1.1 0-2 .9-2 2v14c0 1.1.9 2 2 2h14c1.1 0 2-.9 2-2V5c0-1.1-.9-2-2-2zM9 17H7v-7h2v7zm4 0h-2V7h2v10zm4 0h-2v-4h2v4z\"/>\n",
              "    </g>\n",
              "</svg>\n",
              "  </button>\n",
              "\n",
              "<style>\n",
              "  .colab-df-quickchart {\n",
              "      --bg-color: #E8F0FE;\n",
              "      --fill-color: #1967D2;\n",
              "      --hover-bg-color: #E2EBFA;\n",
              "      --hover-fill-color: #174EA6;\n",
              "      --disabled-fill-color: #AAA;\n",
              "      --disabled-bg-color: #DDD;\n",
              "  }\n",
              "\n",
              "  [theme=dark] .colab-df-quickchart {\n",
              "      --bg-color: #3B4455;\n",
              "      --fill-color: #D2E3FC;\n",
              "      --hover-bg-color: #434B5C;\n",
              "      --hover-fill-color: #FFFFFF;\n",
              "      --disabled-bg-color: #3B4455;\n",
              "      --disabled-fill-color: #666;\n",
              "  }\n",
              "\n",
              "  .colab-df-quickchart {\n",
              "    background-color: var(--bg-color);\n",
              "    border: none;\n",
              "    border-radius: 50%;\n",
              "    cursor: pointer;\n",
              "    display: none;\n",
              "    fill: var(--fill-color);\n",
              "    height: 32px;\n",
              "    padding: 0;\n",
              "    width: 32px;\n",
              "  }\n",
              "\n",
              "  .colab-df-quickchart:hover {\n",
              "    background-color: var(--hover-bg-color);\n",
              "    box-shadow: 0 1px 2px rgba(60, 64, 67, 0.3), 0 1px 3px 1px rgba(60, 64, 67, 0.15);\n",
              "    fill: var(--button-hover-fill-color);\n",
              "  }\n",
              "\n",
              "  .colab-df-quickchart-complete:disabled,\n",
              "  .colab-df-quickchart-complete:disabled:hover {\n",
              "    background-color: var(--disabled-bg-color);\n",
              "    fill: var(--disabled-fill-color);\n",
              "    box-shadow: none;\n",
              "  }\n",
              "\n",
              "  .colab-df-spinner {\n",
              "    border: 2px solid var(--fill-color);\n",
              "    border-color: transparent;\n",
              "    border-bottom-color: var(--fill-color);\n",
              "    animation:\n",
              "      spin 1s steps(1) infinite;\n",
              "  }\n",
              "\n",
              "  @keyframes spin {\n",
              "    0% {\n",
              "      border-color: transparent;\n",
              "      border-bottom-color: var(--fill-color);\n",
              "      border-left-color: var(--fill-color);\n",
              "    }\n",
              "    20% {\n",
              "      border-color: transparent;\n",
              "      border-left-color: var(--fill-color);\n",
              "      border-top-color: var(--fill-color);\n",
              "    }\n",
              "    30% {\n",
              "      border-color: transparent;\n",
              "      border-left-color: var(--fill-color);\n",
              "      border-top-color: var(--fill-color);\n",
              "      border-right-color: var(--fill-color);\n",
              "    }\n",
              "    40% {\n",
              "      border-color: transparent;\n",
              "      border-right-color: var(--fill-color);\n",
              "      border-top-color: var(--fill-color);\n",
              "    }\n",
              "    60% {\n",
              "      border-color: transparent;\n",
              "      border-right-color: var(--fill-color);\n",
              "    }\n",
              "    80% {\n",
              "      border-color: transparent;\n",
              "      border-right-color: var(--fill-color);\n",
              "      border-bottom-color: var(--fill-color);\n",
              "    }\n",
              "    90% {\n",
              "      border-color: transparent;\n",
              "      border-bottom-color: var(--fill-color);\n",
              "    }\n",
              "  }\n",
              "</style>\n",
              "\n",
              "  <script>\n",
              "    async function quickchart(key) {\n",
              "      const quickchartButtonEl =\n",
              "        document.querySelector('#' + key + ' button');\n",
              "      quickchartButtonEl.disabled = true;  // To prevent multiple clicks.\n",
              "      quickchartButtonEl.classList.add('colab-df-spinner');\n",
              "      try {\n",
              "        const charts = await google.colab.kernel.invokeFunction(\n",
              "            'suggestCharts', [key], {});\n",
              "      } catch (error) {\n",
              "        console.error('Error during call to suggestCharts:', error);\n",
              "      }\n",
              "      quickchartButtonEl.classList.remove('colab-df-spinner');\n",
              "      quickchartButtonEl.classList.add('colab-df-quickchart-complete');\n",
              "    }\n",
              "    (() => {\n",
              "      let quickchartButtonEl =\n",
              "        document.querySelector('#df-2eb90b08-a3c5-4356-bdaf-91cb0b504d05 button');\n",
              "      quickchartButtonEl.style.display =\n",
              "        google.colab.kernel.accessAllowed ? 'block' : 'none';\n",
              "    })();\n",
              "  </script>\n",
              "</div>\n",
              "    </div>\n",
              "  </div>\n"
            ],
            "application/vnd.google.colaboratory.intrinsic+json": {
              "type": "dataframe",
              "variable_name": "data",
              "summary": "{\n  \"name\": \"data\",\n  \"rows\": 50000,\n  \"fields\": [\n    {\n      \"column\": \"headline_text\",\n      \"properties\": {\n        \"dtype\": \"string\",\n        \"num_unique_values\": 49831,\n        \"samples\": [\n          \"claim china to overtake us japan as next economic\",\n          \"french response baffles britain howard hits\",\n          \"police aim to lower truck crash rate\"\n        ],\n        \"semantic_type\": \"\",\n        \"description\": \"\"\n      }\n    }\n  ]\n}"
            }
          },
          "metadata": {},
          "execution_count": 20
        }
      ],
      "execution_count": 20
    },
    {
      "cell_type": "code",
      "source": [
        "data.info()"
      ],
      "metadata": {
        "id": "lom1f3Du7gqi",
        "outputId": "a11fed6f-d521-47a9-af31-b00f1bef91ca",
        "colab": {
          "base_uri": "https://localhost:8080/"
        }
      },
      "execution_count": 21,
      "outputs": [
        {
          "output_type": "stream",
          "name": "stdout",
          "text": [
            "<class 'pandas.core.frame.DataFrame'>\n",
            "RangeIndex: 50000 entries, 0 to 49999\n",
            "Data columns (total 1 columns):\n",
            " #   Column         Non-Null Count  Dtype \n",
            "---  ------         --------------  ----- \n",
            " 0   headline_text  50000 non-null  object\n",
            "dtypes: object(1)\n",
            "memory usage: 390.8+ KB\n"
          ]
        }
      ]
    },
    {
      "cell_type": "code",
      "source": [
        "data[data['headline_text'].duplicated(keep=False)].sort_values('headline_text').head(8)"
      ],
      "metadata": {
        "id": "DJossoc4739O",
        "outputId": "1467593a-4eab-47e0-858a-5d7a41594195",
        "colab": {
          "base_uri": "https://localhost:8080/",
          "height": 300
        }
      },
      "execution_count": 22,
      "outputs": [
        {
          "output_type": "execute_result",
          "data": {
            "text/plain": [
              "                                 headline_text\n",
              "9253   5 australian sars cases being monitored\n",
              "9458   5 australian sars cases being monitored\n",
              "28316        al jazeera broadcasts saddam tape\n",
              "28083        al jazeera broadcasts saddam tape\n",
              "6402     all walks of life follow protest path\n",
              "6192     all walks of life follow protest path\n",
              "15880          an early taste of later battles\n",
              "4597           an early taste of later battles"
            ],
            "text/html": [
              "\n",
              "  <div id=\"df-c76cee9c-611b-4ab6-b3c5-5dff1eed6fb9\" class=\"colab-df-container\">\n",
              "    <div>\n",
              "<style scoped>\n",
              "    .dataframe tbody tr th:only-of-type {\n",
              "        vertical-align: middle;\n",
              "    }\n",
              "\n",
              "    .dataframe tbody tr th {\n",
              "        vertical-align: top;\n",
              "    }\n",
              "\n",
              "    .dataframe thead th {\n",
              "        text-align: right;\n",
              "    }\n",
              "</style>\n",
              "<table border=\"1\" class=\"dataframe\">\n",
              "  <thead>\n",
              "    <tr style=\"text-align: right;\">\n",
              "      <th></th>\n",
              "      <th>headline_text</th>\n",
              "    </tr>\n",
              "  </thead>\n",
              "  <tbody>\n",
              "    <tr>\n",
              "      <th>9253</th>\n",
              "      <td>5 australian sars cases being monitored</td>\n",
              "    </tr>\n",
              "    <tr>\n",
              "      <th>9458</th>\n",
              "      <td>5 australian sars cases being monitored</td>\n",
              "    </tr>\n",
              "    <tr>\n",
              "      <th>28316</th>\n",
              "      <td>al jazeera broadcasts saddam tape</td>\n",
              "    </tr>\n",
              "    <tr>\n",
              "      <th>28083</th>\n",
              "      <td>al jazeera broadcasts saddam tape</td>\n",
              "    </tr>\n",
              "    <tr>\n",
              "      <th>6402</th>\n",
              "      <td>all walks of life follow protest path</td>\n",
              "    </tr>\n",
              "    <tr>\n",
              "      <th>6192</th>\n",
              "      <td>all walks of life follow protest path</td>\n",
              "    </tr>\n",
              "    <tr>\n",
              "      <th>15880</th>\n",
              "      <td>an early taste of later battles</td>\n",
              "    </tr>\n",
              "    <tr>\n",
              "      <th>4597</th>\n",
              "      <td>an early taste of later battles</td>\n",
              "    </tr>\n",
              "  </tbody>\n",
              "</table>\n",
              "</div>\n",
              "    <div class=\"colab-df-buttons\">\n",
              "\n",
              "  <div class=\"colab-df-container\">\n",
              "    <button class=\"colab-df-convert\" onclick=\"convertToInteractive('df-c76cee9c-611b-4ab6-b3c5-5dff1eed6fb9')\"\n",
              "            title=\"Convert this dataframe to an interactive table.\"\n",
              "            style=\"display:none;\">\n",
              "\n",
              "  <svg xmlns=\"http://www.w3.org/2000/svg\" height=\"24px\" viewBox=\"0 -960 960 960\">\n",
              "    <path d=\"M120-120v-720h720v720H120Zm60-500h600v-160H180v160Zm220 220h160v-160H400v160Zm0 220h160v-160H400v160ZM180-400h160v-160H180v160Zm440 0h160v-160H620v160ZM180-180h160v-160H180v160Zm440 0h160v-160H620v160Z\"/>\n",
              "  </svg>\n",
              "    </button>\n",
              "\n",
              "  <style>\n",
              "    .colab-df-container {\n",
              "      display:flex;\n",
              "      gap: 12px;\n",
              "    }\n",
              "\n",
              "    .colab-df-convert {\n",
              "      background-color: #E8F0FE;\n",
              "      border: none;\n",
              "      border-radius: 50%;\n",
              "      cursor: pointer;\n",
              "      display: none;\n",
              "      fill: #1967D2;\n",
              "      height: 32px;\n",
              "      padding: 0 0 0 0;\n",
              "      width: 32px;\n",
              "    }\n",
              "\n",
              "    .colab-df-convert:hover {\n",
              "      background-color: #E2EBFA;\n",
              "      box-shadow: 0px 1px 2px rgba(60, 64, 67, 0.3), 0px 1px 3px 1px rgba(60, 64, 67, 0.15);\n",
              "      fill: #174EA6;\n",
              "    }\n",
              "\n",
              "    .colab-df-buttons div {\n",
              "      margin-bottom: 4px;\n",
              "    }\n",
              "\n",
              "    [theme=dark] .colab-df-convert {\n",
              "      background-color: #3B4455;\n",
              "      fill: #D2E3FC;\n",
              "    }\n",
              "\n",
              "    [theme=dark] .colab-df-convert:hover {\n",
              "      background-color: #434B5C;\n",
              "      box-shadow: 0px 1px 3px 1px rgba(0, 0, 0, 0.15);\n",
              "      filter: drop-shadow(0px 1px 2px rgba(0, 0, 0, 0.3));\n",
              "      fill: #FFFFFF;\n",
              "    }\n",
              "  </style>\n",
              "\n",
              "    <script>\n",
              "      const buttonEl =\n",
              "        document.querySelector('#df-c76cee9c-611b-4ab6-b3c5-5dff1eed6fb9 button.colab-df-convert');\n",
              "      buttonEl.style.display =\n",
              "        google.colab.kernel.accessAllowed ? 'block' : 'none';\n",
              "\n",
              "      async function convertToInteractive(key) {\n",
              "        const element = document.querySelector('#df-c76cee9c-611b-4ab6-b3c5-5dff1eed6fb9');\n",
              "        const dataTable =\n",
              "          await google.colab.kernel.invokeFunction('convertToInteractive',\n",
              "                                                    [key], {});\n",
              "        if (!dataTable) return;\n",
              "\n",
              "        const docLinkHtml = 'Like what you see? Visit the ' +\n",
              "          '<a target=\"_blank\" href=https://colab.research.google.com/notebooks/data_table.ipynb>data table notebook</a>'\n",
              "          + ' to learn more about interactive tables.';\n",
              "        element.innerHTML = '';\n",
              "        dataTable['output_type'] = 'display_data';\n",
              "        await google.colab.output.renderOutput(dataTable, element);\n",
              "        const docLink = document.createElement('div');\n",
              "        docLink.innerHTML = docLinkHtml;\n",
              "        element.appendChild(docLink);\n",
              "      }\n",
              "    </script>\n",
              "  </div>\n",
              "\n",
              "\n",
              "<div id=\"df-a1d68878-b436-446a-b43e-6852cce0a8cb\">\n",
              "  <button class=\"colab-df-quickchart\" onclick=\"quickchart('df-a1d68878-b436-446a-b43e-6852cce0a8cb')\"\n",
              "            title=\"Suggest charts\"\n",
              "            style=\"display:none;\">\n",
              "\n",
              "<svg xmlns=\"http://www.w3.org/2000/svg\" height=\"24px\"viewBox=\"0 0 24 24\"\n",
              "     width=\"24px\">\n",
              "    <g>\n",
              "        <path d=\"M19 3H5c-1.1 0-2 .9-2 2v14c0 1.1.9 2 2 2h14c1.1 0 2-.9 2-2V5c0-1.1-.9-2-2-2zM9 17H7v-7h2v7zm4 0h-2V7h2v10zm4 0h-2v-4h2v4z\"/>\n",
              "    </g>\n",
              "</svg>\n",
              "  </button>\n",
              "\n",
              "<style>\n",
              "  .colab-df-quickchart {\n",
              "      --bg-color: #E8F0FE;\n",
              "      --fill-color: #1967D2;\n",
              "      --hover-bg-color: #E2EBFA;\n",
              "      --hover-fill-color: #174EA6;\n",
              "      --disabled-fill-color: #AAA;\n",
              "      --disabled-bg-color: #DDD;\n",
              "  }\n",
              "\n",
              "  [theme=dark] .colab-df-quickchart {\n",
              "      --bg-color: #3B4455;\n",
              "      --fill-color: #D2E3FC;\n",
              "      --hover-bg-color: #434B5C;\n",
              "      --hover-fill-color: #FFFFFF;\n",
              "      --disabled-bg-color: #3B4455;\n",
              "      --disabled-fill-color: #666;\n",
              "  }\n",
              "\n",
              "  .colab-df-quickchart {\n",
              "    background-color: var(--bg-color);\n",
              "    border: none;\n",
              "    border-radius: 50%;\n",
              "    cursor: pointer;\n",
              "    display: none;\n",
              "    fill: var(--fill-color);\n",
              "    height: 32px;\n",
              "    padding: 0;\n",
              "    width: 32px;\n",
              "  }\n",
              "\n",
              "  .colab-df-quickchart:hover {\n",
              "    background-color: var(--hover-bg-color);\n",
              "    box-shadow: 0 1px 2px rgba(60, 64, 67, 0.3), 0 1px 3px 1px rgba(60, 64, 67, 0.15);\n",
              "    fill: var(--button-hover-fill-color);\n",
              "  }\n",
              "\n",
              "  .colab-df-quickchart-complete:disabled,\n",
              "  .colab-df-quickchart-complete:disabled:hover {\n",
              "    background-color: var(--disabled-bg-color);\n",
              "    fill: var(--disabled-fill-color);\n",
              "    box-shadow: none;\n",
              "  }\n",
              "\n",
              "  .colab-df-spinner {\n",
              "    border: 2px solid var(--fill-color);\n",
              "    border-color: transparent;\n",
              "    border-bottom-color: var(--fill-color);\n",
              "    animation:\n",
              "      spin 1s steps(1) infinite;\n",
              "  }\n",
              "\n",
              "  @keyframes spin {\n",
              "    0% {\n",
              "      border-color: transparent;\n",
              "      border-bottom-color: var(--fill-color);\n",
              "      border-left-color: var(--fill-color);\n",
              "    }\n",
              "    20% {\n",
              "      border-color: transparent;\n",
              "      border-left-color: var(--fill-color);\n",
              "      border-top-color: var(--fill-color);\n",
              "    }\n",
              "    30% {\n",
              "      border-color: transparent;\n",
              "      border-left-color: var(--fill-color);\n",
              "      border-top-color: var(--fill-color);\n",
              "      border-right-color: var(--fill-color);\n",
              "    }\n",
              "    40% {\n",
              "      border-color: transparent;\n",
              "      border-right-color: var(--fill-color);\n",
              "      border-top-color: var(--fill-color);\n",
              "    }\n",
              "    60% {\n",
              "      border-color: transparent;\n",
              "      border-right-color: var(--fill-color);\n",
              "    }\n",
              "    80% {\n",
              "      border-color: transparent;\n",
              "      border-right-color: var(--fill-color);\n",
              "      border-bottom-color: var(--fill-color);\n",
              "    }\n",
              "    90% {\n",
              "      border-color: transparent;\n",
              "      border-bottom-color: var(--fill-color);\n",
              "    }\n",
              "  }\n",
              "</style>\n",
              "\n",
              "  <script>\n",
              "    async function quickchart(key) {\n",
              "      const quickchartButtonEl =\n",
              "        document.querySelector('#' + key + ' button');\n",
              "      quickchartButtonEl.disabled = true;  // To prevent multiple clicks.\n",
              "      quickchartButtonEl.classList.add('colab-df-spinner');\n",
              "      try {\n",
              "        const charts = await google.colab.kernel.invokeFunction(\n",
              "            'suggestCharts', [key], {});\n",
              "      } catch (error) {\n",
              "        console.error('Error during call to suggestCharts:', error);\n",
              "      }\n",
              "      quickchartButtonEl.classList.remove('colab-df-spinner');\n",
              "      quickchartButtonEl.classList.add('colab-df-quickchart-complete');\n",
              "    }\n",
              "    (() => {\n",
              "      let quickchartButtonEl =\n",
              "        document.querySelector('#df-a1d68878-b436-446a-b43e-6852cce0a8cb button');\n",
              "      quickchartButtonEl.style.display =\n",
              "        google.colab.kernel.accessAllowed ? 'block' : 'none';\n",
              "    })();\n",
              "  </script>\n",
              "</div>\n",
              "    </div>\n",
              "  </div>\n"
            ],
            "application/vnd.google.colaboratory.intrinsic+json": {
              "type": "dataframe",
              "summary": "{\n  \"name\": \"data[data['headline_text']\",\n  \"rows\": 8,\n  \"fields\": [\n    {\n      \"column\": \"headline_text\",\n      \"properties\": {\n        \"dtype\": \"string\",\n        \"num_unique_values\": 4,\n        \"samples\": [\n          \"al jazeera broadcasts saddam tape\",\n          \"an early taste of later battles\",\n          \"5 australian sars cases being monitored\"\n        ],\n        \"semantic_type\": \"\",\n        \"description\": \"\"\n      }\n    }\n  ]\n}"
            }
          },
          "metadata": {},
          "execution_count": 22
        }
      ]
    },
    {
      "cell_type": "code",
      "source": [
        "data = data.drop_duplicates('headline_text')"
      ],
      "metadata": {
        "id": "4EgBhkUF8o8j"
      },
      "execution_count": 23,
      "outputs": []
    },
    {
      "cell_type": "code",
      "source": [
        "# Custom punctuation marks\n",
        "punc = ['.', ',', '\"', \"'\", '?', '!', ':', ';', '(', ')', '[', ']', '{', '}', \"%\"]\n",
        "\n",
        "# Combine English stop words with custom punctuation into a single list\n",
        "stop_words = list(text.ENGLISH_STOP_WORDS) + punc\n",
        "\n",
        "# Extract the headline text from the DataFrame and drop NaN values\n",
        "desc = data['headline_text'].dropna().values\n",
        "\n",
        "# Create an instance of TfidfVectorizer using the custom stop words list\n",
        "vectorizer = TfidfVectorizer(stop_words=stop_words)\n",
        "\n",
        "# Fit and transform the text data into TF-IDF representation\n",
        "X = vectorizer.fit_transform(desc)"
      ],
      "metadata": {
        "id": "T1uvfjqc9PhS"
      },
      "execution_count": 24,
      "outputs": []
    },
    {
      "cell_type": "code",
      "source": [
        "word_features = vectorizer.get_feature_names_out()  # Use get_feature_names_out() instead\n",
        "print(len(word_features))\n",
        "print(word_features[5000:5100])  # Print features from index 5000 to 5100"
      ],
      "metadata": {
        "colab": {
          "base_uri": "https://localhost:8080/"
        },
        "id": "F8namTc5ZZvk",
        "outputId": "46d8bdb3-efd1-4dd4-af3c-cbee513438e0"
      },
      "execution_count": 25,
      "outputs": [
        {
          "output_type": "stream",
          "name": "stdout",
          "text": [
            "20925\n",
            "['customs' 'cut' 'cutbacks' 'cuthbert' 'cuts' 'cutting' 'cuttlefish' 'cwa'\n",
            " 'cwealth' 'cweath' 'cyanide' 'cyber' 'cyclassics' 'cycle' 'cycleway'\n",
            " 'cycling' 'cyclings' 'cyclist' 'cyclists' 'cyclone' 'cylinder'\n",
            " 'cylinders' 'cynical' 'cypriot' 'cypriots' 'cyprus' 'cyrus' 'cyst'\n",
            " 'cystic' 'czech' 'czechs' 'da' 'dad' 'daddy' 'dads' 'dafa' 'daffodil'\n",
            " 'dagestan' 'dagger' 'dailly' 'daily' 'dailys' 'dairy' 'daisy' 'dalai'\n",
            " 'dalby' 'dale' 'daley' 'dalgety' 'dali' 'dallaglio' 'dallas' 'dally'\n",
            " 'dallying' 'dalton' 'daly' 'dam' 'damage' 'damaged' 'damages' 'damaging'\n",
            " 'damir' 'damn' 'damning' 'damns' 'damp' 'dampen' 'dampener' 'dampens'\n",
            " 'damron' 'dams' 'dance' 'dancers' 'dancevic' 'dancing' 'dane' 'danehill'\n",
            " 'danes' 'danger' 'dangerman' 'dangerous' 'dangers' 'dangle' 'daniel'\n",
            " 'daniher' 'danish' 'dans' 'danube' 'danvers' 'darcy' 'dardanup' 'dare'\n",
            " 'dareton' 'dargie' 'dargo' 'daring' 'dark' 'darken' 'darkness' 'darling']\n"
          ]
        }
      ]
    },
    {
      "cell_type": "code",
      "source": [
        "stemmer = SnowballStemmer('english')\n",
        "tokenizer = RegexpTokenizer(r'[a-zA-Z\\']+')\n",
        "\n",
        "def tokenize(text):\n",
        "    return [stemmer.stem(word) for word in tokenizer.tokenize(text.lower())]"
      ],
      "metadata": {
        "id": "szo2j2Dla48i"
      },
      "execution_count": 26,
      "outputs": []
    },
    {
      "cell_type": "code",
      "source": [
        "vectorizer2 = TfidfVectorizer(stop_words = stop_words, tokenizer = tokenize)\n",
        "X2 = vectorizer2.fit_transform(desc)\n",
        "word_features2 = vectorizer2.get_feature_names_out()\n",
        "print(len(word_features2))\n",
        "print(word_features2[:50])"
      ],
      "metadata": {
        "colab": {
          "base_uri": "https://localhost:8080/"
        },
        "id": "GQlnN-8KbAqr",
        "outputId": "1c388009-6e89-492e-8b23-0ce546f459c2"
      },
      "execution_count": 27,
      "outputs": [
        {
          "output_type": "stream",
          "name": "stderr",
          "text": [
            "/usr/local/lib/python3.10/dist-packages/sklearn/feature_extraction/text.py:521: UserWarning: The parameter 'token_pattern' will not be used since 'tokenizer' is not None'\n",
            "  warnings.warn(\n",
            "/usr/local/lib/python3.10/dist-packages/sklearn/feature_extraction/text.py:406: UserWarning: Your stop_words may be inconsistent with your preprocessing. Tokenizing the stop words generated tokens ['abov', 'afterward', 'alon', 'alreadi', 'alway', 'ani', 'anoth', 'anyon', 'anyth', 'anywher', 'becam', 'becaus', 'becom', 'befor', 'besid', 'cri', 'describ', 'dure', 'els', 'elsewher', 'empti', 'everi', 'everyon', 'everyth', 'everywher', 'fifti', 'forti', 'henc', 'hereaft', 'herebi', 'howev', 'hundr', 'inde', 'mani', 'meanwhil', 'moreov', 'nobodi', 'noon', 'noth', 'nowher', 'onc', 'onli', 'otherwis', 'ourselv', 'perhap', 'pleas', 'sever', 'sinc', 'sincer', 'sixti', 'someon', 'someth', 'sometim', 'somewher', 'themselv', 'thenc', 'thereaft', 'therebi', 'therefor', 'togeth', 'twelv', 'twenti', 'veri', 'whatev', 'whenc', 'whenev', 'wherea', 'whereaft', 'wherebi', 'wherev', 'whi', 'yourselv'] not in stop_words.\n",
            "  warnings.warn(\n"
          ]
        },
        {
          "output_type": "stream",
          "name": "stdout",
          "text": [
            "13915\n",
            "['aa' 'aac' 'aagaard' 'aagard' 'aapa' 'aargau' 'ab' 'aba' 'abalon'\n",
            " 'abandon' 'abar' 'abat' 'abattoir' 'abba' 'abbott' 'abbrevi' 'abc'\n",
            " 'abdic' 'abduct' 'abductor' 'abdul' 'abe' 'abera' 'aberhart' 'abetz'\n",
            " 'abid' 'abigroup' 'abil' 'abl' 'ablaz' 'ablett' 'abnorm' 'aboard'\n",
            " 'abolish' 'abolit' 'aborigin' 'abort' 'abortionist' 'abov' 'abreast'\n",
            " 'abroad' 'abrolho' 'absenc' 'absent' 'absente' 'abstudi' 'absurd' 'abt'\n",
            " 'abtron' 'abu']\n"
          ]
        }
      ]
    },
    {
      "cell_type": "code",
      "source": [
        "vectorizer3 = TfidfVectorizer(stop_words = stop_words, tokenizer = tokenize, max_features = 1000)\n",
        "X3 = vectorizer3.fit_transform(desc)\n",
        "words = vectorizer3.get_feature_names_out()"
      ],
      "metadata": {
        "id": "mzXA4zAZf5a_"
      },
      "execution_count": 29,
      "outputs": []
    },
    {
      "cell_type": "markdown",
      "source": [
        "Elbow -- select number of clusters"
      ],
      "metadata": {
        "id": "Kz8gt194VaJR"
      }
    },
    {
      "cell_type": "code",
      "source": [
        "from sklearn.cluster import KMeans\n",
        "wcss = []\n",
        "for i in range(1,13):\n",
        "    kmeans = KMeans(n_clusters=i,init='k-means++',max_iter=300,n_init=10,random_state=0)\n",
        "    kmeans.fit(X3)\n",
        "    wcss.append(kmeans.inertia_)\n",
        "plt.plot(range(1,13),wcss)\n",
        "plt.title('The Elbow Method')\n",
        "plt.xlabel('Number of clusters')\n",
        "plt.ylabel('WCSS')\n",
        "plt.savefig('elbow.png')\n",
        "plt.show()"
      ],
      "metadata": {
        "colab": {
          "base_uri": "https://localhost:8080/",
          "height": 472
        },
        "id": "QAiv9RiaVT_Q",
        "outputId": "a9d4586c-6c80-4105-8edf-941982c9a842"
      },
      "execution_count": 34,
      "outputs": [
        {
          "output_type": "display_data",
          "data": {
            "text/plain": [
              "<Figure size 640x480 with 1 Axes>"
            ],
            "image/png": "[encoded data removed]"
          },
          "metadata": {}
        }
      ]
    },
    {
      "cell_type": "markdown",
      "source": [
        "k = 4"
      ],
      "metadata": {
        "id": "YbAK04QCaAOo"
      }
    },
    {
      "cell_type": "code",
      "source": [
        "kmeans = KMeans(n_clusters = 4, n_init = 20) # n_init(number of iterations for clsutering) n_jobs(number of cpu cores to use)\n",
        "kmeans.fit(X3)\n",
        "# Look at 4 the clusters generated by k-means.\n",
        "common_words = kmeans.cluster_centers_.argsort()[:,-1:-26:-1]\n",
        "for num, centroid in enumerate(common_words):\n",
        "    print(str(num) + ' : ' + ', '.join(words[word] for word in centroid))"
      ],
      "metadata": {
        "colab": {
          "base_uri": "https://localhost:8080/"
        },
        "id": "dmyQuoKKY5Ky",
        "outputId": "7c45b9c6-4ce1-450e-e591-d9b1a475883e"
      },
      "execution_count": 36,
      "outputs": [
        {
          "output_type": "stream",
          "name": "stdout",
          "text": [
            "0 : win, award, titl, stage, tour, open, cup, world, lead, battl, score, gold, grand, m, record, final, claim, second, hope, contract, celebr, championship, race, aussi, way\n",
            "1 : govt, vic, urg, nsw, fed, wa, sa, qld, fund, plan, local, consid, tas, claim, reject, accus, nt, new, say, act, support, feder, offer, defend, deni\n",
            "2 : polic, plan, new, council, iraq, say, claim, face, warn, report, fund, court, urg, charg, set, world, war, open, water, cup, concern, boost, lead, continu, death\n",
            "3 : man, kill, charg, polic, court, attack, crash, face, murder, soldier, jail, car, injur, blast, accid, die, miss, stab, bomb, rebel, assault, arrest, isra, iraq, search\n"
          ]
        }
      ]
    },
    {
      "cell_type": "markdown",
      "source": [
        "k = 7"
      ],
      "metadata": {
        "id": "_3w2TM0Sac2x"
      }
    },
    {
      "cell_type": "code",
      "source": [
        "kmeans = KMeans(n_clusters = 7, n_init = 20)\n",
        "kmeans.fit(X3)\n",
        "# Look at 7 the clusters generated by k-means.\n",
        "common_words = kmeans.cluster_centers_.argsort()[:,-1:-26:-1]\n",
        "for num, centroid in enumerate(common_words):\n",
        "    print(str(num) + ' : ' + ', '.join(words[word] for word in centroid))"
      ],
      "metadata": {
        "colab": {
          "base_uri": "https://localhost:8080/"
        },
        "id": "FcFKKoYzacY8",
        "outputId": "31104b85-ba10-46da-81f7-68171620b3f6"
      },
      "execution_count": 37,
      "outputs": [
        {
          "output_type": "stream",
          "name": "stdout",
          "text": [
            "0 : face, court, charg, man, hear, murder, high, trial, drug, rule, told, appear, appeal, woman, sex, alleg, futur, case, accus, tough, death, water, order, ban, sentenc\n",
            "1 : report, world, cup, championship, australia, win, davi, rugbi, fed, final, highlight, team, aussi, set, sar, bid, death, titl, england, new, claim, best, open, releas, case\n",
            "2 : new, govt, win, man, council, say, claim, kill, warn, charg, set, open, lead, concern, nsw, hope, crash, consid, qld, continu, water, war, group, boost, meet\n",
            "3 : urg, iraqi, return, govt, public, troop, council, home, kill, farmer, soldier, minist, help, say, nsw, leader, baghdad, war, consid, pm, forc, vic, work, driver, saddam\n",
            "4 : polic, probe, investig, man, arrest, search, miss, murder, death, car, hunt, fatal, seek, drug, help, charg, crash, bodi, victim, suspect, road, station, shoot, attack, stab\n",
            "5 : iraq, fund, war, say, govt, soldier, boost, troop, bush, attack, kill, council, blair, help, seek, report, feder, road, health, resolut, howard, missil, weapon, wa, new\n",
            "6 : plan, council, govt, new, water, develop, boost, welcom, protest, reject, merger, centr, public, sought, group, park, resid, consid, manag, meet, indigen, support, chang, urg, ahead\n"
          ]
        }
      ]
    },
    {
      "cell_type": "markdown",
      "source": [
        "k = 8"
      ],
      "metadata": {
        "id": "eVNKmbs1mepG"
      }
    },
    {
      "cell_type": "code",
      "source": [
        "kmeans = KMeans(n_clusters = 8, n_init = 20)\n",
        "kmeans.fit(X3)\n",
        "# Look at 8 the clusters generated by k-means.\n",
        "common_words = kmeans.cluster_centers_.argsort()[:,-1:-26:-1]\n",
        "for num, centroid in enumerate(common_words):\n",
        "    print(str(num) + ' : ' + ', '.join(words[word] for word in centroid))"
      ],
      "metadata": {
        "colab": {
          "base_uri": "https://localhost:8080/"
        },
        "id": "X7cj7O5aZ9s6",
        "outputId": "3202af4a-cf0c-46d3-d831-45fe792db5b2"
      },
      "execution_count": 39,
      "outputs": [
        {
          "output_type": "stream",
          "name": "stdout",
          "text": [
            "0 : win, council, iraq, claim, report, fund, face, set, world, court, urg, cup, open, war, lead, concern, boost, final, continu, water, hope, australia, consid, meet, iraqi\n",
            "1 : new, kill, soldier, zealand, crash, blast, attack, iraq, rebel, isra, injur, law, palestinian, bomb, baghdad, iraqi, kashmir, accid, bus, china, hope, report, car, presid, launch\n",
            "2 : polic, probe, investig, man, arrest, search, miss, murder, death, car, hunt, fatal, seek, drug, help, bodi, crash, suspect, victim, attack, road, shoot, charg, station, raid\n",
            "3 : govt, urg, vic, fed, nsw, wa, sa, qld, fund, local, consid, tas, claim, reject, accus, nt, plan, support, new, act, feder, offer, defend, deni, review\n",
            "4 : plan, council, new, water, develop, boost, protest, welcom, reject, centr, group, sought, merger, park, consid, public, manag, meet, resid, indigen, support, govt, concern, chang, ahead\n",
            "5 : say, iraq, govt, need, war, iraqi, polic, crean, group, pm, mp, troop, minist, health, council, nt, wont, korea, boss, kill, union, saddam, public, budget, plan\n",
            "6 : warn, issu, travel, threat, govt, polic, iraq, spark, public, sar, driver, health, bali, owner, cricket, danger, korea, war, water, act, attack, crisi, ban, resid, australia\n",
            "7 : man, charg, face, court, murder, jail, assault, stab, die, kill, car, drug, sex, guilti, attack, death, accid, hospit, crash, woman, child, plead, rape, miss, bail\n"
          ]
        }
      ]
    },
    {
      "cell_type": "markdown",
      "source": [
        "k = 10"
      ],
      "metadata": {
        "id": "QSehoI8LbLqU"
      }
    },
    {
      "cell_type": "code",
      "source": [
        "kmeans = KMeans(n_clusters = 10, n_init = 20)\n",
        "kmeans.fit(X3)\n",
        "# Look at 10 the clusters generated by k-means.\n",
        "common_words = kmeans.cluster_centers_.argsort()[:,-1:-26:-1]\n",
        "for num, centroid in enumerate(common_words):\n",
        "    print(str(num) + ' : ' + ', '.join(words[word] for word in centroid))"
      ],
      "metadata": {
        "colab": {
          "base_uri": "https://localhost:8080/"
        },
        "id": "mdofdUhHa-hE",
        "outputId": "f6357767-d279-4c5e-ce84-4da0e20c5807"
      },
      "execution_count": 40,
      "outputs": [
        {
          "output_type": "stream",
          "name": "stdout",
          "text": [
            "0 : vic, govt, polic, urg, fund, bushfir, central, minist, western, defend, job, strike, opposit, drought, teacher, rain, worker, rail, farmer, water, support, parliament, opp, new, west\n",
            "1 : govt, wa, fed, sa, nsw, qld, fund, local, plan, consid, tas, accus, claim, nt, reject, say, act, support, offer, review, help, feder, deni, criticis, warn\n",
            "2 : face, court, charg, man, trial, murder, drug, tough, futur, sex, water, final, test, woman, restrict, fine, death, ban, alleg, rate, polic, pair, assault, wait, child\n",
            "3 : new, zealand, law, plan, hope, launch, presid, servic, chief, open, govt, set, announc, home, deal, sign, appoint, sar, work, station, polic, hit, help, centr, case\n",
            "4 : urg, govt, public, farmer, council, nsw, driver, help, fund, care, plan, resid, fed, region, boost, consid, polic, water, qld, health, mp, chang, iraq, support, minist\n",
            "5 : win, award, titl, stage, tour, open, cup, world, lead, battl, score, gold, grand, m, record, final, claim, second, hope, celebr, championship, race, aussi, way, australia\n",
            "6 : council, plan, consid, merger, seek, reject, approv, land, fund, develop, meet, water, secur, new, manag, rate, rise, support, budget, claim, elect, concern, super, chang, decis\n",
            "7 : polic, probe, investig, man, arrest, search, miss, murder, death, car, hunt, fatal, seek, drug, help, charg, crash, bodi, victim, suspect, attack, road, shoot, stab, station\n",
            "8 : plan, man, say, kill, claim, charg, warn, report, world, set, fund, court, cup, open, lead, concern, boost, iraqi, crash, war, continu, water, death, australia, attack\n",
            "9 : iraq, war, soldier, say, troop, bush, attack, kill, blair, report, resolut, missil, weapon, howard, forc, british, oil, post, intellig, deni, bomb, uk, pm, saddam, warn\n"
          ]
        }
      ]
    },
    {
      "cell_type": "code",
      "source": [
        "kmeans = KMeans(n_clusters = 11, n_init = 20)\n",
        "kmeans.fit(X3)\n",
        "# Look at 11 the clusters generated by k-means.\n",
        "common_words = kmeans.cluster_centers_.argsort()[:,-1:-26:-1]\n",
        "for num, centroid in enumerate(common_words):\n",
        "    print(str(num) + ' : ' + ', '.join(words[word] for word in centroid))"
      ],
      "metadata": {
        "colab": {
          "base_uri": "https://localhost:8080/"
        },
        "id": "krV2ilU4mwDy",
        "outputId": "d56940ba-2a49-4ba2-9c49-132e6d052979"
      },
      "execution_count": 41,
      "outputs": [
        {
          "output_type": "stream",
          "name": "stdout",
          "text": [
            "0 : plan, kill, claim, warn, report, fund, world, set, urg, cup, boost, concern, court, iraqi, open, water, war, continu, crash, hope, final, australia, group, meet, protest\n",
            "1 : council, plan, merger, seek, reject, fund, approv, land, develop, urg, meet, secur, new, water, rate, manag, support, rise, elect, concern, air, chang, claim, super, decis\n",
            "2 : polic, probe, investig, man, arrest, search, miss, death, murder, car, hunt, fatal, seek, drug, help, bodi, crash, victim, suspect, road, station, attack, shoot, raid, charg\n",
            "3 : man, charg, face, court, murder, jail, stab, assault, die, car, kill, drug, sex, trial, death, guilti, attack, hospit, child, woman, crash, accid, sydney, fraud, rape\n",
            "4 : govt, vic, urg, fed, nsw, wa, sa, fund, qld, plan, local, tas, claim, accus, reject, act, support, nt, feder, offer, review, defend, deni, help, region\n",
            "5 : win, award, titl, stage, tour, open, cup, world, lead, battl, score, gold, grand, m, record, final, claim, second, hope, celebr, championship, race, contract, aussi, way\n",
            "6 : lead, strike, teacher, worker, open, share, staff, shot, grab, pay, sorenstam, aussi, air, australia, tour, join, victori, uni, extend, threaten, stage, nation, charg, master, follow\n",
            "7 : say, iraq, govt, need, polic, iraqi, pm, crean, group, mp, troop, minist, health, nt, wont, war, korea, boss, kill, union, saddam, budget, nuclear, bomb, public\n",
            "8 : consid, council, govt, option, plan, studi, water, wa, urg, merger, action, industri, legal, futur, group, new, meet, indigen, court, appeal, worker, impact, g, issu, case\n",
            "9 : new, zealand, law, plan, hope, launch, presid, servic, set, chief, govt, announc, sign, open, home, deal, appoint, sar, work, hit, station, centr, help, case, polic\n",
            "10 : iraq, war, soldier, troop, bush, attack, kill, blair, report, resolut, missil, howard, weapon, british, forc, oil, deni, post, intellig, uk, pm, aid, defend, warn, send\n"
          ]
        }
      ]
    }
  ]
}
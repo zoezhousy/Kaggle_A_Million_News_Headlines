{
 "cells": [
  {
   "cell_type": "markdown",
   "metadata": {},
   "source": [
    "# CATEGORY CLASSIFICATION"
   ]
  },
  {
   "cell_type": "code",
   "execution_count": 2,
   "metadata": {},
   "outputs": [
    {
     "name": "stderr",
     "output_type": "stream",
     "text": [
      "C:\\Users\\zoezh\\AppData\\Roaming\\Python\\Python39\\site-packages\\tqdm\\auto.py:21: TqdmWarning: IProgress not found. Please update jupyter and ipywidgets. See https://ipywidgets.readthedocs.io/en/stable/user_install.html\n",
      "  from .autonotebook import tqdm as notebook_tqdm\n"
     ]
    }
   ],
   "source": [
    "import numpy as np\n",
    "import matplotlib.pyplot as plt\n",
    "import pandas as pd\n",
    "from transformers import BertTokenizer, BertModel\n",
    "import torch"
   ]
  },
  {
   "cell_type": "code",
   "execution_count": 3,
   "metadata": {},
   "outputs": [],
   "source": [
    "import warnings\n",
    "warnings.filterwarnings(\"ignore\", category=FutureWarning)"
   ]
  },
  {
   "cell_type": "code",
   "execution_count": 4,
   "metadata": {},
   "outputs": [
    {
     "data": {
      "text/html": [
       "<div>\n",
       "<style scoped>\n",
       "    .dataframe tbody tr th:only-of-type {\n",
       "        vertical-align: middle;\n",
       "    }\n",
       "\n",
       "    .dataframe tbody tr th {\n",
       "        vertical-align: top;\n",
       "    }\n",
       "\n",
       "    .dataframe thead th {\n",
       "        text-align: right;\n",
       "    }\n",
       "</style>\n",
       "<table border=\"1\" class=\"dataframe\">\n",
       "  <thead>\n",
       "    <tr style=\"text-align: right;\">\n",
       "      <th></th>\n",
       "      <th>publish_date</th>\n",
       "      <th>headline_text</th>\n",
       "    </tr>\n",
       "  </thead>\n",
       "  <tbody>\n",
       "    <tr>\n",
       "      <th>0</th>\n",
       "      <td>20030219</td>\n",
       "      <td>aba decides against community broadcasting lic...</td>\n",
       "    </tr>\n",
       "    <tr>\n",
       "      <th>1</th>\n",
       "      <td>20030219</td>\n",
       "      <td>act fire witnesses must be aware of defamation</td>\n",
       "    </tr>\n",
       "    <tr>\n",
       "      <th>2</th>\n",
       "      <td>20030219</td>\n",
       "      <td>a g calls for infrastructure protection summit</td>\n",
       "    </tr>\n",
       "    <tr>\n",
       "      <th>3</th>\n",
       "      <td>20030219</td>\n",
       "      <td>air nz staff in aust strike for pay rise</td>\n",
       "    </tr>\n",
       "    <tr>\n",
       "      <th>4</th>\n",
       "      <td>20030219</td>\n",
       "      <td>air nz strike to affect australian travellers</td>\n",
       "    </tr>\n",
       "  </tbody>\n",
       "</table>\n",
       "</div>"
      ],
      "text/plain": [
       "   publish_date                                      headline_text\n",
       "0      20030219  aba decides against community broadcasting lic...\n",
       "1      20030219     act fire witnesses must be aware of defamation\n",
       "2      20030219     a g calls for infrastructure protection summit\n",
       "3      20030219           air nz staff in aust strike for pay rise\n",
       "4      20030219      air nz strike to affect australian travellers"
      ]
     },
     "execution_count": 4,
     "metadata": {},
     "output_type": "execute_result"
    }
   ],
   "source": [
    "# load data\n",
    "data = pd.read_csv('./input/abcnews-date-text.csv')\n",
    "data.head()"
   ]
  },
  {
   "cell_type": "code",
   "execution_count": 5,
   "metadata": {},
   "outputs": [
    {
     "name": "stdout",
     "output_type": "stream",
     "text": [
      "<class 'pandas.core.frame.DataFrame'>\n",
      "RangeIndex: 1244184 entries, 0 to 1244183\n",
      "Data columns (total 2 columns):\n",
      " #   Column         Non-Null Count    Dtype \n",
      "---  ------         --------------    ----- \n",
      " 0   publish_date   1244184 non-null  int64 \n",
      " 1   headline_text  1244184 non-null  object\n",
      "dtypes: int64(1), object(1)\n",
      "memory usage: 19.0+ MB\n"
     ]
    }
   ],
   "source": [
    "data.info()"
   ]
  },
  {
   "cell_type": "code",
   "execution_count": 6,
   "metadata": {},
   "outputs": [],
   "source": [
    "data = data.rename(columns={'headline_text': 'text'})\n",
    "data['text'] = data['text'].astype(str)"
   ]
  },
  {
   "cell_type": "code",
   "execution_count": 7,
   "metadata": {},
   "outputs": [
    {
     "data": {
      "text/html": [
       "<div>\n",
       "<style scoped>\n",
       "    .dataframe tbody tr th:only-of-type {\n",
       "        vertical-align: middle;\n",
       "    }\n",
       "\n",
       "    .dataframe tbody tr th {\n",
       "        vertical-align: top;\n",
       "    }\n",
       "\n",
       "    .dataframe thead th {\n",
       "        text-align: right;\n",
       "    }\n",
       "</style>\n",
       "<table border=\"1\" class=\"dataframe\">\n",
       "  <thead>\n",
       "    <tr style=\"text-align: right;\">\n",
       "      <th></th>\n",
       "      <th>publish_date</th>\n",
       "      <th>text</th>\n",
       "    </tr>\n",
       "  </thead>\n",
       "  <tbody>\n",
       "    <tr>\n",
       "      <th>116298</th>\n",
       "      <td>20040920</td>\n",
       "      <td>10 killed in pakistan bus crash</td>\n",
       "    </tr>\n",
       "    <tr>\n",
       "      <th>57967</th>\n",
       "      <td>20031129</td>\n",
       "      <td>10 killed in pakistan bus crash</td>\n",
       "    </tr>\n",
       "    <tr>\n",
       "      <th>911080</th>\n",
       "      <td>20141023</td>\n",
       "      <td>110 with barry nicholls</td>\n",
       "    </tr>\n",
       "    <tr>\n",
       "      <th>672958</th>\n",
       "      <td>20120217</td>\n",
       "      <td>110 with barry nicholls</td>\n",
       "    </tr>\n",
       "    <tr>\n",
       "      <th>748629</th>\n",
       "      <td>20121214</td>\n",
       "      <td>110 with barry nicholls</td>\n",
       "    </tr>\n",
       "    <tr>\n",
       "      <th>676423</th>\n",
       "      <td>20120302</td>\n",
       "      <td>110 with barry nicholls</td>\n",
       "    </tr>\n",
       "    <tr>\n",
       "      <th>897042</th>\n",
       "      <td>20140820</td>\n",
       "      <td>110 with barry nicholls episode 15</td>\n",
       "    </tr>\n",
       "    <tr>\n",
       "      <th>826828</th>\n",
       "      <td>20131017</td>\n",
       "      <td>110 with barry nicholls episode 15</td>\n",
       "    </tr>\n",
       "    <tr>\n",
       "      <th>826829</th>\n",
       "      <td>20131017</td>\n",
       "      <td>110 with barry nicholls episode 16</td>\n",
       "    </tr>\n",
       "    <tr>\n",
       "      <th>898353</th>\n",
       "      <td>20140826</td>\n",
       "      <td>110 with barry nicholls episode 16</td>\n",
       "    </tr>\n",
       "  </tbody>\n",
       "</table>\n",
       "</div>"
      ],
      "text/plain": [
       "        publish_date                                text\n",
       "116298      20040920     10 killed in pakistan bus crash\n",
       "57967       20031129     10 killed in pakistan bus crash\n",
       "911080      20141023             110 with barry nicholls\n",
       "672958      20120217             110 with barry nicholls\n",
       "748629      20121214             110 with barry nicholls\n",
       "676423      20120302             110 with barry nicholls\n",
       "897042      20140820  110 with barry nicholls episode 15\n",
       "826828      20131017  110 with barry nicholls episode 15\n",
       "826829      20131017  110 with barry nicholls episode 16\n",
       "898353      20140826  110 with barry nicholls episode 16"
      ]
     },
     "execution_count": 7,
     "metadata": {},
     "output_type": "execute_result"
    }
   ],
   "source": [
    "data[data['text'].duplicated(keep=False)].sort_values('text').head(10)"
   ]
  },
  {
   "cell_type": "code",
   "execution_count": 8,
   "metadata": {},
   "outputs": [],
   "source": [
    "data = data.drop_duplicates('text').reset_index(drop=True)"
   ]
  },
  {
   "cell_type": "code",
   "execution_count": 9,
   "metadata": {},
   "outputs": [
    {
     "data": {
      "text/html": [
       "<div>\n",
       "<style scoped>\n",
       "    .dataframe tbody tr th:only-of-type {\n",
       "        vertical-align: middle;\n",
       "    }\n",
       "\n",
       "    .dataframe tbody tr th {\n",
       "        vertical-align: top;\n",
       "    }\n",
       "\n",
       "    .dataframe thead th {\n",
       "        text-align: right;\n",
       "    }\n",
       "</style>\n",
       "<table border=\"1\" class=\"dataframe\">\n",
       "  <thead>\n",
       "    <tr style=\"text-align: right;\">\n",
       "      <th></th>\n",
       "      <th>publish_date</th>\n",
       "      <th>text</th>\n",
       "    </tr>\n",
       "  </thead>\n",
       "  <tbody>\n",
       "    <tr>\n",
       "      <th>0</th>\n",
       "      <td>20030219</td>\n",
       "      <td>aba decides against community broadcasting lic...</td>\n",
       "    </tr>\n",
       "    <tr>\n",
       "      <th>1</th>\n",
       "      <td>20030219</td>\n",
       "      <td>act fire witnesses must be aware of defamation</td>\n",
       "    </tr>\n",
       "    <tr>\n",
       "      <th>2</th>\n",
       "      <td>20030219</td>\n",
       "      <td>a g calls for infrastructure protection summit</td>\n",
       "    </tr>\n",
       "    <tr>\n",
       "      <th>3</th>\n",
       "      <td>20030219</td>\n",
       "      <td>air nz staff in aust strike for pay rise</td>\n",
       "    </tr>\n",
       "    <tr>\n",
       "      <th>4</th>\n",
       "      <td>20030219</td>\n",
       "      <td>air nz strike to affect australian travellers</td>\n",
       "    </tr>\n",
       "  </tbody>\n",
       "</table>\n",
       "</div>"
      ],
      "text/plain": [
       "   publish_date                                               text\n",
       "0      20030219  aba decides against community broadcasting lic...\n",
       "1      20030219     act fire witnesses must be aware of defamation\n",
       "2      20030219     a g calls for infrastructure protection summit\n",
       "3      20030219           air nz staff in aust strike for pay rise\n",
       "4      20030219      air nz strike to affect australian travellers"
      ]
     },
     "execution_count": 9,
     "metadata": {},
     "output_type": "execute_result"
    }
   ],
   "source": [
    "data = data.head(50000)\n",
    "data.head()"
   ]
  },
  {
   "cell_type": "code",
   "execution_count": 10,
   "metadata": {},
   "outputs": [
    {
     "name": "stdout",
     "output_type": "stream",
     "text": [
      "<class 'pandas.core.frame.DataFrame'>\n",
      "RangeIndex: 50000 entries, 0 to 49999\n",
      "Data columns (total 2 columns):\n",
      " #   Column        Non-Null Count  Dtype \n",
      "---  ------        --------------  ----- \n",
      " 0   publish_date  50000 non-null  int64 \n",
      " 1   text          50000 non-null  object\n",
      "dtypes: int64(1), object(1)\n",
      "memory usage: 781.4+ KB\n"
     ]
    }
   ],
   "source": [
    "data.info()"
   ]
  },
  {
   "cell_type": "markdown",
   "metadata": {},
   "source": [
    "# 1. Labelling \n",
    "- through Natural Language Processing(NLP) Libraries\n",
    "- https://www.kaggle.com/code/ahmadalijamali/headline-news-classification-with-bert\n",
    "- https://www.snorkel.org/use-cases/01-spam-tutorial#3-writing-more-labeling-functions"
   ]
  },
  {
   "cell_type": "code",
   "execution_count": 11,
   "metadata": {},
   "outputs": [
    {
     "name": "stderr",
     "output_type": "stream",
     "text": [
      "[nltk_data] Downloading package punkt_tab to\n",
      "[nltk_data]     C:\\Users\\zoezh\\AppData\\Roaming\\nltk_data...\n",
      "[nltk_data]   Package punkt_tab is already up-to-date!\n",
      "[nltk_data] Downloading package wordnet to\n",
      "[nltk_data]     C:\\Users\\zoezh\\AppData\\Roaming\\nltk_data...\n",
      "[nltk_data]   Package wordnet is already up-to-date!\n"
     ]
    }
   ],
   "source": [
    "from sklearn.utils import shuffle\n",
    "from snorkel.labeling import LabelingFunction\n",
    "from snorkel.preprocess import preprocessor\n",
    "from snorkel.labeling import PandasLFApplier\n",
    "from snorkel.labeling.model import LabelModel\n",
    "from snorkel.labeling import LFAnalysis\n",
    "from snorkel.labeling import filter_unlabeled_dataframe\n",
    "from snorkel.labeling import labeling_function\n",
    "\n",
    "import re\n",
    "import spacy\n",
    "from spacy import displacy\n",
    "\n",
    "import nltk\n",
    "from nltk.corpus import stopwords\n",
    "from nltk.tokenize import word_tokenize\n",
    "from nltk.stem import PorterStemmer\n",
    "\n",
    "nltk.download('punkt_tab')\n",
    "import string\n",
    "\n",
    "\n",
    "#Supervised learning\n",
    "from tqdm import tqdm_notebook as tqdm\n",
    "from sklearn.feature_extraction.text import TfidfVectorizer\n",
    "from sklearn.model_selection import train_test_split\n",
    "from sklearn.metrics import accuracy_score\n",
    "from sklearn.linear_model import LogisticRegression\n",
    "from sklearn.metrics import classification_report\n",
    "\n",
    "##Deep learning libraries and APIs\n",
    "import numpy as np\n",
    "import tensorflow as tf\n",
    "from tensorflow.keras.preprocessing.text import Tokenizer\n",
    "from tensorflow.keras.preprocessing.sequence import pad_sequences\n",
    "from sklearn.utils import shuffle\n",
    "\n",
    "from textblob import TextBlob\n",
    "from textblob import Word\n",
    "\n",
    "import nltk\n",
    "nltk.download('wordnet')\n",
    "from textblob.wordnet import VERB\n",
    "from textblob.wordnet import NOUN\n",
    "from textblob.wordnet import ADJ\n",
    "from textblob.wordnet import ADV\n",
    "\n",
    "from tabulate import tabulate\n",
    "from tqdm import trange\n",
    "import random\n",
    "\n",
    "import torch\n",
    "from torch.utils.data import TensorDataset, DataLoader, RandomSampler, SequentialSampler"
   ]
  },
  {
   "cell_type": "code",
   "execution_count": 12,
   "metadata": {},
   "outputs": [
    {
     "name": "stderr",
     "output_type": "stream",
     "text": [
      "[nltk_data] Downloading package stopwords to\n",
      "[nltk_data]     C:\\Users\\zoezh\\AppData\\Roaming\\nltk_data...\n",
      "[nltk_data]   Package stopwords is already up-to-date!\n"
     ]
    }
   ],
   "source": [
    "punc = string.punctuation\n",
    "nltk.download('stopwords')\n",
    "stop_words = set(stopwords.words('english'))\n",
    "# stop_words"
   ]
  },
  {
   "cell_type": "code",
   "execution_count": 13,
   "metadata": {},
   "outputs": [],
   "source": [
    "# reference: https://www.snorkel.org/use-cases/01-spam-tutorial#3-writing-more-labeling-functions\n",
    "# list of positive keywords/negative keywords\n",
    "# this list can be further extended \n",
    "\n",
    "# list of labeling functions\n",
    "categories ={\n",
    "    \"business and economy\":[\n",
    "        \"economy\",\"markets\",\"trades\",\"financial news\",\"stocks\",\"banking sector\",\"investments\",\n",
    "        \"fiscal policy\",\"economic growth\",\"recession\",\"unemployment rates\",\"government budget\",\n",
    "        \"trade deficit\",\"inflation rates\",\"financial regulation\",\"IPO\",\"mergers\",\"acquisitions\"\n",
    "    ],\n",
    "    \"entertainment and arts\":[\n",
    "        \"movies\",\"music industry\",\"television shows\",\"concerts\",\"celebrities\",\"theatre\",\"arts\",\n",
    "        \"literature\",\"film festivals\",\"award shows\",\"celebrity gossip\",\"entertainment news\",\n",
    "        \"cultural events\",\"art exhibitions\",\"book releases\",\"box office\"\n",
    "    ],\n",
    "    \"politics and law\":[\n",
    "        \"elections\",\"government policies\",\"senatorial\",\"legislation\",\"diplomatic relations\",\n",
    "        \"political campaigns\", \"law enforcement\",\"legal system\", \"justice system\",\"judiciary\",\n",
    "        \"political debates\",\"international relations\",\"civil rights\",\"policy making\",\"political scandals\"\n",
    "    ],\n",
    "    \"sports\":[\n",
    "        \"matches\",\"tournaments\",\"athletics\",\"race\",\"victories\",\"sports teams\",\"world cup\",\n",
    "        \"olympics\",\"championships\",\"sports news\",\"athlete profiles\",\"sports injuries\",\n",
    "        \"team standings\",\"sports statistics\",\"coaching changes\",\"player transfers\"\n",
    "    ],\n",
    "    \"science and technology\":[\n",
    "        \"scientific advancement\",\"gadgets\",\"internet security\",\"tech\",\"innovations\",\n",
    "        \"software development\",\"hardware upgrades\",\"scientific research\",\"new discoveries\",\n",
    "        \"experimental\",\"theoretical studies\",\"biological findings\",\"physics research\",\n",
    "        \"artificial intelligence\",\"machine learning\",\"robotics\",\"space exploration\",\"environmental tech\"\n",
    "    ],\n",
    "    \"health and medicine\":[\n",
    "        \"well-being\",\"healthcare\",\"medical breakthroughs\",\"epidemics\",\"treatments\",\"public health\",\n",
    "        \"mental health\",\"health systems\",\"hospitals\",\"medical research\",\"vaccination\",\"disease prevention\",\n",
    "        \"health policy\",\"fitness\",\"nutrition\",\"health technology\",\"pharmaceuticals\"\n",
    "    ],\n",
    "    \"environment and energy\":[\n",
    "        \"climate change\",\"renewable energy\",\"conservation efforts\",\"environmental protection\",\n",
    "        \"wildlife conservation\",\"pollution control\",\"sustainable living\",\"clean energy\",\"recycling\",\n",
    "        \"deforestation\",\"carbon footprint\",\"green technology\",\"environmental policy\",\"biodiversity\",\n",
    "        \"eco-friendly products\"\n",
    "    ],\n",
    "    \"crime and justice\":[\n",
    "        \"criminal activity\",\"crime news\",\"law and order\",\"trials\",\"court cases\",\"legal debates\",\n",
    "        \"criminal investigations\",\"judiciary news\",\"crime prevention\",\"forensic science\",\"public safety\",\n",
    "        \"corruption\",\"fraud\",\"theft\",\"homicide\",\"law enforcement agencies\"\n",
    "    ]\n",
    "}\n",
    "\n",
    "category_names = list(categories.keys())\n",
    "category_keywords = [\" \".join(keywords) for keywords in categories.values()]\n",
    "# print(category_names)\n",
    "# print(category_keywords)"
   ]
  },
  {
   "cell_type": "code",
   "execution_count": 14,
   "metadata": {},
   "outputs": [
    {
     "data": {
      "text/html": [
       "<div>\n",
       "<style scoped>\n",
       "    .dataframe tbody tr th:only-of-type {\n",
       "        vertical-align: middle;\n",
       "    }\n",
       "\n",
       "    .dataframe tbody tr th {\n",
       "        vertical-align: top;\n",
       "    }\n",
       "\n",
       "    .dataframe thead th {\n",
       "        text-align: right;\n",
       "    }\n",
       "</style>\n",
       "<table border=\"1\" class=\"dataframe\">\n",
       "  <thead>\n",
       "    <tr style=\"text-align: right;\">\n",
       "      <th></th>\n",
       "      <th>publish_date</th>\n",
       "      <th>text</th>\n",
       "      <th>actual_category</th>\n",
       "    </tr>\n",
       "  </thead>\n",
       "  <tbody>\n",
       "    <tr>\n",
       "      <th>0</th>\n",
       "      <td>20030219</td>\n",
       "      <td>aba decides against community broadcasting lic...</td>\n",
       "      <td>others</td>\n",
       "    </tr>\n",
       "    <tr>\n",
       "      <th>1</th>\n",
       "      <td>20030219</td>\n",
       "      <td>act fire witnesses must be aware of defamation</td>\n",
       "      <td>others</td>\n",
       "    </tr>\n",
       "    <tr>\n",
       "      <th>2</th>\n",
       "      <td>20030219</td>\n",
       "      <td>a g calls for infrastructure protection summit</td>\n",
       "      <td>environment and energy</td>\n",
       "    </tr>\n",
       "    <tr>\n",
       "      <th>3</th>\n",
       "      <td>20030219</td>\n",
       "      <td>air nz staff in aust strike for pay rise</td>\n",
       "      <td>others</td>\n",
       "    </tr>\n",
       "    <tr>\n",
       "      <th>4</th>\n",
       "      <td>20030219</td>\n",
       "      <td>air nz strike to affect australian travellers</td>\n",
       "      <td>others</td>\n",
       "    </tr>\n",
       "  </tbody>\n",
       "</table>\n",
       "</div>"
      ],
      "text/plain": [
       "   publish_date                                               text  \\\n",
       "0      20030219  aba decides against community broadcasting lic...   \n",
       "1      20030219     act fire witnesses must be aware of defamation   \n",
       "2      20030219     a g calls for infrastructure protection summit   \n",
       "3      20030219           air nz staff in aust strike for pay rise   \n",
       "4      20030219      air nz strike to affect australian travellers   \n",
       "\n",
       "          actual_category  \n",
       "0                  others  \n",
       "1                  others  \n",
       "2  environment and energy  \n",
       "3                  others  \n",
       "4                  others  "
      ]
     },
     "execution_count": 14,
     "metadata": {},
     "output_type": "execute_result"
    }
   ],
   "source": [
    "# if contain above keywords, then return the category\n",
    "def get_category(text):\n",
    "    for i, keywords in enumerate(category_keywords):\n",
    "        if any(word in text for word in keywords.split()):\n",
    "            return category_names[i]\n",
    "    return \"others\"\n",
    "\n",
    "# get category for each text\n",
    "data['actual_category'] = data['text'].apply(get_category)\n",
    "data.head()\n"
   ]
  },
  {
   "cell_type": "code",
   "execution_count": 15,
   "metadata": {},
   "outputs": [
    {
     "data": {
      "text/plain": [
       "actual_category\n",
       "others                    34816\n",
       "crime and justice          4138\n",
       "entertainment and arts     2368\n",
       "science and technology     2213\n",
       "sports                     1911\n",
       "business and economy       1467\n",
       "politics and law           1157\n",
       "health and medicine         979\n",
       "environment and energy      951\n",
       "Name: count, dtype: int64"
      ]
     },
     "execution_count": 15,
     "metadata": {},
     "output_type": "execute_result"
    }
   ],
   "source": [
    "# check the distribution of categories\n",
    "data['actual_category'].value_counts()"
   ]
  },
  {
   "cell_type": "markdown",
   "metadata": {},
   "source": [
    "# 2. Preprocessing"
   ]
  },
  {
   "cell_type": "code",
   "execution_count": 16,
   "metadata": {},
   "outputs": [
    {
     "data": {
      "text/html": [
       "<div>\n",
       "<style scoped>\n",
       "    .dataframe tbody tr th:only-of-type {\n",
       "        vertical-align: middle;\n",
       "    }\n",
       "\n",
       "    .dataframe tbody tr th {\n",
       "        vertical-align: top;\n",
       "    }\n",
       "\n",
       "    .dataframe thead th {\n",
       "        text-align: right;\n",
       "    }\n",
       "</style>\n",
       "<table border=\"1\" class=\"dataframe\">\n",
       "  <thead>\n",
       "    <tr style=\"text-align: right;\">\n",
       "      <th></th>\n",
       "      <th>publish_date</th>\n",
       "      <th>text</th>\n",
       "      <th>actual_category</th>\n",
       "    </tr>\n",
       "  </thead>\n",
       "  <tbody>\n",
       "    <tr>\n",
       "      <th>0</th>\n",
       "      <td>20030219</td>\n",
       "      <td>aba decides against community broadcasting lic...</td>\n",
       "      <td>others</td>\n",
       "    </tr>\n",
       "    <tr>\n",
       "      <th>1</th>\n",
       "      <td>20030219</td>\n",
       "      <td>act fire witnesses must be aware of defamation</td>\n",
       "      <td>others</td>\n",
       "    </tr>\n",
       "    <tr>\n",
       "      <th>2</th>\n",
       "      <td>20030219</td>\n",
       "      <td>a g calls for infrastructure protection summit</td>\n",
       "      <td>environment and energy</td>\n",
       "    </tr>\n",
       "    <tr>\n",
       "      <th>3</th>\n",
       "      <td>20030219</td>\n",
       "      <td>air nz staff in aust strike for pay rise</td>\n",
       "      <td>others</td>\n",
       "    </tr>\n",
       "    <tr>\n",
       "      <th>4</th>\n",
       "      <td>20030219</td>\n",
       "      <td>air nz strike to affect australian travellers</td>\n",
       "      <td>others</td>\n",
       "    </tr>\n",
       "  </tbody>\n",
       "</table>\n",
       "</div>"
      ],
      "text/plain": [
       "   publish_date                                               text  \\\n",
       "0      20030219  aba decides against community broadcasting lic...   \n",
       "1      20030219     act fire witnesses must be aware of defamation   \n",
       "2      20030219     a g calls for infrastructure protection summit   \n",
       "3      20030219           air nz staff in aust strike for pay rise   \n",
       "4      20030219      air nz strike to affect australian travellers   \n",
       "\n",
       "          actual_category  \n",
       "0                  others  \n",
       "1                  others  \n",
       "2  environment and energy  \n",
       "3                  others  \n",
       "4                  others  "
      ]
     },
     "execution_count": 16,
     "metadata": {},
     "output_type": "execute_result"
    }
   ],
   "source": [
    "# Normalization: Con vert all the headlines to lowercase\n",
    "data['text'] = data['text'].apply(lambda x: x.lower())\n",
    "data.head()"
   ]
  },
  {
   "cell_type": "code",
   "execution_count": 17,
   "metadata": {},
   "outputs": [
    {
     "data": {
      "text/html": [
       "<div>\n",
       "<style scoped>\n",
       "    .dataframe tbody tr th:only-of-type {\n",
       "        vertical-align: middle;\n",
       "    }\n",
       "\n",
       "    .dataframe tbody tr th {\n",
       "        vertical-align: top;\n",
       "    }\n",
       "\n",
       "    .dataframe thead th {\n",
       "        text-align: right;\n",
       "    }\n",
       "</style>\n",
       "<table border=\"1\" class=\"dataframe\">\n",
       "  <thead>\n",
       "    <tr style=\"text-align: right;\">\n",
       "      <th></th>\n",
       "      <th>publish_date</th>\n",
       "      <th>text</th>\n",
       "      <th>actual_category</th>\n",
       "    </tr>\n",
       "  </thead>\n",
       "  <tbody>\n",
       "    <tr>\n",
       "      <th>0</th>\n",
       "      <td>20030219</td>\n",
       "      <td>[aba, decides, against, community, broadcastin...</td>\n",
       "      <td>others</td>\n",
       "    </tr>\n",
       "    <tr>\n",
       "      <th>1</th>\n",
       "      <td>20030219</td>\n",
       "      <td>[act, fire, witnesses, must, be, aware, of, de...</td>\n",
       "      <td>others</td>\n",
       "    </tr>\n",
       "    <tr>\n",
       "      <th>2</th>\n",
       "      <td>20030219</td>\n",
       "      <td>[a, g, calls, for, infrastructure, protection,...</td>\n",
       "      <td>environment and energy</td>\n",
       "    </tr>\n",
       "    <tr>\n",
       "      <th>3</th>\n",
       "      <td>20030219</td>\n",
       "      <td>[air, nz, staff, in, aust, strike, for, pay, r...</td>\n",
       "      <td>others</td>\n",
       "    </tr>\n",
       "    <tr>\n",
       "      <th>4</th>\n",
       "      <td>20030219</td>\n",
       "      <td>[air, nz, strike, to, affect, australian, trav...</td>\n",
       "      <td>others</td>\n",
       "    </tr>\n",
       "  </tbody>\n",
       "</table>\n",
       "</div>"
      ],
      "text/plain": [
       "   publish_date                                               text  \\\n",
       "0      20030219  [aba, decides, against, community, broadcastin...   \n",
       "1      20030219  [act, fire, witnesses, must, be, aware, of, de...   \n",
       "2      20030219  [a, g, calls, for, infrastructure, protection,...   \n",
       "3      20030219  [air, nz, staff, in, aust, strike, for, pay, r...   \n",
       "4      20030219  [air, nz, strike, to, affect, australian, trav...   \n",
       "\n",
       "          actual_category  \n",
       "0                  others  \n",
       "1                  others  \n",
       "2  environment and energy  \n",
       "3                  others  \n",
       "4                  others  "
      ]
     },
     "execution_count": 17,
     "metadata": {},
     "output_type": "execute_result"
    }
   ],
   "source": [
    "# Tokenization: Split the text into individual words or tokens\n",
    "data['text'] = data['text'].apply(word_tokenize)\n",
    "data.head()"
   ]
  },
  {
   "cell_type": "code",
   "execution_count": 18,
   "metadata": {},
   "outputs": [
    {
     "data": {
      "text/html": [
       "<div>\n",
       "<style scoped>\n",
       "    .dataframe tbody tr th:only-of-type {\n",
       "        vertical-align: middle;\n",
       "    }\n",
       "\n",
       "    .dataframe tbody tr th {\n",
       "        vertical-align: top;\n",
       "    }\n",
       "\n",
       "    .dataframe thead th {\n",
       "        text-align: right;\n",
       "    }\n",
       "</style>\n",
       "<table border=\"1\" class=\"dataframe\">\n",
       "  <thead>\n",
       "    <tr style=\"text-align: right;\">\n",
       "      <th></th>\n",
       "      <th>publish_date</th>\n",
       "      <th>text</th>\n",
       "      <th>actual_category</th>\n",
       "    </tr>\n",
       "  </thead>\n",
       "  <tbody>\n",
       "    <tr>\n",
       "      <th>0</th>\n",
       "      <td>20030219</td>\n",
       "      <td>[aba, decides, community, broadcasting, licence]</td>\n",
       "      <td>others</td>\n",
       "    </tr>\n",
       "    <tr>\n",
       "      <th>1</th>\n",
       "      <td>20030219</td>\n",
       "      <td>[act, fire, witnesses, must, aware, defamation]</td>\n",
       "      <td>others</td>\n",
       "    </tr>\n",
       "    <tr>\n",
       "      <th>2</th>\n",
       "      <td>20030219</td>\n",
       "      <td>[g, calls, infrastructure, protection, summit]</td>\n",
       "      <td>environment and energy</td>\n",
       "    </tr>\n",
       "    <tr>\n",
       "      <th>3</th>\n",
       "      <td>20030219</td>\n",
       "      <td>[air, nz, staff, aust, strike, pay, rise]</td>\n",
       "      <td>others</td>\n",
       "    </tr>\n",
       "    <tr>\n",
       "      <th>4</th>\n",
       "      <td>20030219</td>\n",
       "      <td>[air, nz, strike, affect, australian, travellers]</td>\n",
       "      <td>others</td>\n",
       "    </tr>\n",
       "  </tbody>\n",
       "</table>\n",
       "</div>"
      ],
      "text/plain": [
       "   publish_date                                               text  \\\n",
       "0      20030219   [aba, decides, community, broadcasting, licence]   \n",
       "1      20030219    [act, fire, witnesses, must, aware, defamation]   \n",
       "2      20030219     [g, calls, infrastructure, protection, summit]   \n",
       "3      20030219          [air, nz, staff, aust, strike, pay, rise]   \n",
       "4      20030219  [air, nz, strike, affect, australian, travellers]   \n",
       "\n",
       "          actual_category  \n",
       "0                  others  \n",
       "1                  others  \n",
       "2  environment and energy  \n",
       "3                  others  \n",
       "4                  others  "
      ]
     },
     "execution_count": 18,
     "metadata": {},
     "output_type": "execute_result"
    }
   ],
   "source": [
    "# Stop Word Removal: Remove commonly used words (such as \"the\", \"is\", \"in\")\n",
    "data['text'] = data['text'].apply(lambda x: [item for item in x if item not in stop_words])\n",
    "data.head()"
   ]
  },
  {
   "cell_type": "code",
   "execution_count": 19,
   "metadata": {},
   "outputs": [
    {
     "data": {
      "text/html": [
       "<div>\n",
       "<style scoped>\n",
       "    .dataframe tbody tr th:only-of-type {\n",
       "        vertical-align: middle;\n",
       "    }\n",
       "\n",
       "    .dataframe tbody tr th {\n",
       "        vertical-align: top;\n",
       "    }\n",
       "\n",
       "    .dataframe thead th {\n",
       "        text-align: right;\n",
       "    }\n",
       "</style>\n",
       "<table border=\"1\" class=\"dataframe\">\n",
       "  <thead>\n",
       "    <tr style=\"text-align: right;\">\n",
       "      <th></th>\n",
       "      <th>publish_date</th>\n",
       "      <th>text</th>\n",
       "      <th>actual_category</th>\n",
       "    </tr>\n",
       "  </thead>\n",
       "  <tbody>\n",
       "    <tr>\n",
       "      <th>0</th>\n",
       "      <td>20030219</td>\n",
       "      <td>[aba, decid, commun, broadcast, licenc]</td>\n",
       "      <td>others</td>\n",
       "    </tr>\n",
       "    <tr>\n",
       "      <th>1</th>\n",
       "      <td>20030219</td>\n",
       "      <td>[act, fire, wit, must, awar, defam]</td>\n",
       "      <td>others</td>\n",
       "    </tr>\n",
       "    <tr>\n",
       "      <th>2</th>\n",
       "      <td>20030219</td>\n",
       "      <td>[g, call, infrastructur, protect, summit]</td>\n",
       "      <td>environment and energy</td>\n",
       "    </tr>\n",
       "    <tr>\n",
       "      <th>3</th>\n",
       "      <td>20030219</td>\n",
       "      <td>[air, nz, staff, aust, strike, pay, rise]</td>\n",
       "      <td>others</td>\n",
       "    </tr>\n",
       "    <tr>\n",
       "      <th>4</th>\n",
       "      <td>20030219</td>\n",
       "      <td>[air, nz, strike, affect, australian, travel]</td>\n",
       "      <td>others</td>\n",
       "    </tr>\n",
       "  </tbody>\n",
       "</table>\n",
       "</div>"
      ],
      "text/plain": [
       "   publish_date                                           text  \\\n",
       "0      20030219        [aba, decid, commun, broadcast, licenc]   \n",
       "1      20030219            [act, fire, wit, must, awar, defam]   \n",
       "2      20030219      [g, call, infrastructur, protect, summit]   \n",
       "3      20030219      [air, nz, staff, aust, strike, pay, rise]   \n",
       "4      20030219  [air, nz, strike, affect, australian, travel]   \n",
       "\n",
       "          actual_category  \n",
       "0                  others  \n",
       "1                  others  \n",
       "2  environment and energy  \n",
       "3                  others  \n",
       "4                  others  "
      ]
     },
     "execution_count": 19,
     "metadata": {},
     "output_type": "execute_result"
    }
   ],
   "source": [
    "# Stemming: Apply stemming to reduce words to their base or root form.\n",
    "# For example, \"running\" would be stemmed to \"run\". This helps in generalizing the text and reducing the complexity of the dataset.\n",
    "ps = PorterStemmer()\n",
    "data['text'] = data['text'].apply(lambda x: [ps.stem(item) for item in x])\n",
    "data.head()"
   ]
  },
  {
   "cell_type": "code",
   "execution_count": 20,
   "metadata": {},
   "outputs": [
    {
     "data": {
      "text/html": [
       "<div>\n",
       "<style scoped>\n",
       "    .dataframe tbody tr th:only-of-type {\n",
       "        vertical-align: middle;\n",
       "    }\n",
       "\n",
       "    .dataframe tbody tr th {\n",
       "        vertical-align: top;\n",
       "    }\n",
       "\n",
       "    .dataframe thead th {\n",
       "        text-align: right;\n",
       "    }\n",
       "</style>\n",
       "<table border=\"1\" class=\"dataframe\">\n",
       "  <thead>\n",
       "    <tr style=\"text-align: right;\">\n",
       "      <th></th>\n",
       "      <th>publish_date</th>\n",
       "      <th>text</th>\n",
       "      <th>actual_category</th>\n",
       "    </tr>\n",
       "  </thead>\n",
       "  <tbody>\n",
       "    <tr>\n",
       "      <th>0</th>\n",
       "      <td>20030219</td>\n",
       "      <td>aba decid commun broadcast licenc</td>\n",
       "      <td>others</td>\n",
       "    </tr>\n",
       "    <tr>\n",
       "      <th>1</th>\n",
       "      <td>20030219</td>\n",
       "      <td>act fire wit must awar defam</td>\n",
       "      <td>others</td>\n",
       "    </tr>\n",
       "    <tr>\n",
       "      <th>2</th>\n",
       "      <td>20030219</td>\n",
       "      <td>g call infrastructur protect summit</td>\n",
       "      <td>environment and energy</td>\n",
       "    </tr>\n",
       "    <tr>\n",
       "      <th>3</th>\n",
       "      <td>20030219</td>\n",
       "      <td>air nz staff aust strike pay rise</td>\n",
       "      <td>others</td>\n",
       "    </tr>\n",
       "    <tr>\n",
       "      <th>4</th>\n",
       "      <td>20030219</td>\n",
       "      <td>air nz strike affect australian travel</td>\n",
       "      <td>others</td>\n",
       "    </tr>\n",
       "  </tbody>\n",
       "</table>\n",
       "</div>"
      ],
      "text/plain": [
       "   publish_date                                    text  \\\n",
       "0      20030219       aba decid commun broadcast licenc   \n",
       "1      20030219            act fire wit must awar defam   \n",
       "2      20030219     g call infrastructur protect summit   \n",
       "3      20030219       air nz staff aust strike pay rise   \n",
       "4      20030219  air nz strike affect australian travel   \n",
       "\n",
       "          actual_category  \n",
       "0                  others  \n",
       "1                  others  \n",
       "2  environment and energy  \n",
       "3                  others  \n",
       "4                  others  "
      ]
     },
     "execution_count": 20,
     "metadata": {},
     "output_type": "execute_result"
    }
   ],
   "source": [
    "# Reconstruction: reconstruct the processed tokens back into a string format\n",
    "data['text'] = data['text'].apply(lambda x: ' '.join(x))\n",
    "\n",
    "data.head()"
   ]
  },
  {
   "cell_type": "code",
   "execution_count": 21,
   "metadata": {},
   "outputs": [],
   "source": [
    "preprocessed_headlines = data['text']"
   ]
  },
  {
   "cell_type": "markdown",
   "metadata": {},
   "source": [
    "# 3. Modeling\n"
   ]
  },
  {
   "cell_type": "code",
   "execution_count": 22,
   "metadata": {},
   "outputs": [],
   "source": [
    "from transformers import BertTokenizer, BertModel, BartTokenizer, BartModel, BartForConditionalGeneration, BartConfig, BartForSequenceClassification\n",
    "from transformers import GPT2TokenizerFast,GPT2Model, AutoTokenizer, AutoModel, RobertaTokenizer, RobertaModel\n",
    "from sklearn.metrics.pairwise import cosine_similarity\n",
    "import matplotlib.pyplot as plt\n",
    "from sklearn.decomposition import PCA"
   ]
  },
  {
   "cell_type": "code",
   "execution_count": 22,
   "metadata": {},
   "outputs": [],
   "source": [
    "# # Function to load model and tokenizer\n",
    "# def load_model_and_tokenizer(model_name):\n",
    "#     tokenizer = AutoTokenizer.from_pretrained(model_name)\n",
    "#     model = AutoModel.from_pretrained(model_name)\n",
    "#     return tokenizer, model\n"
   ]
  },
  {
   "cell_type": "code",
   "execution_count": 23,
   "metadata": {},
   "outputs": [
    {
     "name": "stderr",
     "output_type": "stream",
     "text": [
      "Some weights of RobertaModel were not initialized from the model checkpoint at roberta-base and are newly initialized: ['roberta.pooler.dense.bias', 'roberta.pooler.dense.weight']\n",
      "You should probably TRAIN this model on a down-stream task to be able to use it for predictions and inference.\n"
     ]
    }
   ],
   "source": [
    "# Load Models\n",
    "bert_tokenizer, bert_model = BertTokenizer.from_pretrained(\"bert-base-uncased\"), BertModel.from_pretrained(\"bert-base-uncased\", torch_dtype=torch.float16, attn_implementation=\"sdpa\").cuda()\n",
    "bart_tokenizer, bart_model = AutoTokenizer.from_pretrained(\"facebook/bart-base\"), BartForConditionalGeneration.from_pretrained(\"facebook/bart-base\").cuda()\n",
    "gpt2_tokenizer, gpt2_model = GPT2TokenizerFast.from_pretrained(\"gpt2\"), GPT2Model.from_pretrained(\"gpt2\")\n",
    "roberta_tokenizer, roberta_model = RobertaTokenizer.from_pretrained(\"roberta-base\"), RobertaModel.from_pretrained(\"roberta-base\")"
   ]
  },
  {
   "cell_type": "code",
   "execution_count": 24,
   "metadata": {},
   "outputs": [],
   "source": [
    "# Store predictions for each model\n",
    "model_results = {}"
   ]
  },
  {
   "cell_type": "markdown",
   "metadata": {},
   "source": [
    "## 3.1 BERT - Modelling"
   ]
  },
  {
   "cell_type": "code",
   "execution_count": 25,
   "metadata": {},
   "outputs": [
    {
     "name": "stderr",
     "output_type": "stream",
     "text": [
      "C:\\Users\\zoezh\\AppData\\Roaming\\Python\\Python39\\site-packages\\transformers\\models\\bert\\modeling_bert.py:440: UserWarning: 1Torch was not compiled with flash attention. (Triggered internally at C:\\actions-runner\\_work\\pytorch\\pytorch\\builder\\windows\\pytorch\\aten\\src\\ATen\\native\\transformers\\cuda\\sdp_utils.cpp:263.)\n",
      "  attn_output = torch.nn.functional.scaled_dot_product_attention(\n"
     ]
    }
   ],
   "source": [
    "# Use mixed precision for inference\n",
    "inputs_categories = bert_tokenizer(category_keywords, return_tensors='pt', padding=True, truncation=True, max_length=512).to('cuda')\n",
    "\n",
    "with torch.no_grad():\n",
    "    with torch.cuda.amp.autocast():\n",
    "        outputs_categories = bert_model(**inputs_categories)\n",
    "\n",
    "category_embeddings = outputs_categories.last_hidden_state.mean(dim=1).cpu()\n",
    "\n",
    "category_embeddings.shape\n",
    "\n",
    "# delete cuda memory\n",
    "del inputs_categories, outputs_categories\n",
    "torch.cuda.empty_cache()"
   ]
  },
  {
   "cell_type": "code",
   "execution_count": 26,
   "metadata": {},
   "outputs": [
    {
     "data": {
      "image/png": "[encoded data removed]",
      "text/plain": [
       "<Figure size 800x600 with 1 Axes>"
      ]
     },
     "metadata": {},
     "output_type": "display_data"
    }
   ],
   "source": [
    "# Visualize category embeddings using PCA\n",
    "pca = PCA(n_components=min(2, category_embeddings.shape[0]))  # Ensure n_components <= input size\n",
    "reduced_embeddings = pca.fit_transform(category_embeddings.numpy())\n",
    "\n",
    "plt.figure(figsize=(8, 6))\n",
    "for i, label in enumerate(category_names):\n",
    "    plt.scatter(reduced_embeddings[i, 0], reduced_embeddings[i, 1], label=label)\n",
    "plt.title(f\"Category Embeddings Visualization (BERT)\")\n",
    "plt.xlabel(\"Principal Component 1\")\n",
    "plt.ylabel(\"Principal Component 2\")\n",
    "plt.legend()\n",
    "plt.grid(True)\n",
    "plt.show()\n"
   ]
  },
  {
   "cell_type": "code",
   "execution_count": 27,
   "metadata": {},
   "outputs": [],
   "source": [
    "batch_size = 100  # Adjust batch size based on your GPU memory\n",
    "headline_embeddings = []\n",
    "\n",
    "for i in range(0, len(preprocessed_headlines), batch_size):\n",
    "    batch_headlines = preprocessed_headlines[i:i+batch_size]\n",
    "    inputs_headlines = bert_tokenizer(batch_headlines.tolist(), return_tensors='pt', padding=True, truncation=True, max_length=512).to('cuda')\n",
    "    with torch.no_grad():\n",
    "        with torch.cuda.amp.autocast():\n",
    "            outputs_headlines = bert_model(**inputs_headlines)\n",
    "    batch_embeddings = outputs_headlines.last_hidden_state.mean(dim=1).cpu()\n",
    "    headline_embeddings.append(batch_embeddings)\n",
    "\n",
    "headline_embeddings = torch.cat(headline_embeddings)\n",
    "\n",
    "del inputs_headlines, outputs_headlines\n",
    "torch.cuda.empty_cache()\n",
    "\n",
    "# Visualize category embeddings using PCA\n",
    "pca = PCA(n_components=min(2, headline_embeddings.shape[0]))  # Ensure n_components <= input size\n",
    "reduced_embeddings = pca.fit_transform(headline_embeddings.numpy())\n",
    "\n",
    "plt.figure(figsize=(8, 6))\n",
    "for i, label in enumerate(category_names):\n",
    "    plt.scatter(reduced_embeddings[i, 0], reduced_embeddings[i, 1], label=label)\n",
    "plt.title(f\"Category Embeddings Visualization (BERT)\")\n",
    "plt.xlabel(\"Principal Component 1\")\n",
    "plt.ylabel(\"Principal Component 2\")\n",
    "plt.legend()\n",
    "plt.grid(True)\n",
    "plt.show()\n"
   ]
  },
  {
   "cell_type": "code",
   "execution_count": 28,
   "metadata": {},
   "outputs": [
    {
     "name": "stdout",
     "output_type": "stream",
     "text": [
      "Predictions for BERT model generated successfully!\n"
     ]
    }
   ],
   "source": [
    "# Calculate similarity and classify\n",
    "similarities = cosine_similarity(headline_embeddings, category_embeddings)\n",
    "predicted_categories = [category_names[idx] for idx in np.argmax(similarities, axis=1)]\n",
    "\n",
    "# Store results\n",
    "model_results['BERT'] = predicted_categories\n",
    "\n",
    "print(f\"Predictions for BERT model generated successfully!\")"
   ]
  },
  {
   "cell_type": "code",
   "execution_count": 29,
   "metadata": {},
   "outputs": [
    {
     "data": {
      "text/html": [
       "<div>\n",
       "<style scoped>\n",
       "    .dataframe tbody tr th:only-of-type {\n",
       "        vertical-align: middle;\n",
       "    }\n",
       "\n",
       "    .dataframe tbody tr th {\n",
       "        vertical-align: top;\n",
       "    }\n",
       "\n",
       "    .dataframe thead th {\n",
       "        text-align: right;\n",
       "    }\n",
       "</style>\n",
       "<table border=\"1\" class=\"dataframe\">\n",
       "  <thead>\n",
       "    <tr style=\"text-align: right;\">\n",
       "      <th></th>\n",
       "      <th>publish_date</th>\n",
       "      <th>text</th>\n",
       "      <th>actual_category</th>\n",
       "      <th>BERT</th>\n",
       "    </tr>\n",
       "  </thead>\n",
       "  <tbody>\n",
       "    <tr>\n",
       "      <th>0</th>\n",
       "      <td>20030219</td>\n",
       "      <td>aba decid commun broadcast licenc</td>\n",
       "      <td>others</td>\n",
       "      <td>sports</td>\n",
       "    </tr>\n",
       "    <tr>\n",
       "      <th>1</th>\n",
       "      <td>20030219</td>\n",
       "      <td>act fire wit must awar defam</td>\n",
       "      <td>others</td>\n",
       "      <td>business and economy</td>\n",
       "    </tr>\n",
       "    <tr>\n",
       "      <th>2</th>\n",
       "      <td>20030219</td>\n",
       "      <td>g call infrastructur protect summit</td>\n",
       "      <td>environment and energy</td>\n",
       "      <td>sports</td>\n",
       "    </tr>\n",
       "    <tr>\n",
       "      <th>3</th>\n",
       "      <td>20030219</td>\n",
       "      <td>air nz staff aust strike pay rise</td>\n",
       "      <td>others</td>\n",
       "      <td>business and economy</td>\n",
       "    </tr>\n",
       "    <tr>\n",
       "      <th>4</th>\n",
       "      <td>20030219</td>\n",
       "      <td>air nz strike affect australian travel</td>\n",
       "      <td>others</td>\n",
       "      <td>sports</td>\n",
       "    </tr>\n",
       "  </tbody>\n",
       "</table>\n",
       "</div>"
      ],
      "text/plain": [
       "   publish_date                                    text  \\\n",
       "0      20030219       aba decid commun broadcast licenc   \n",
       "1      20030219            act fire wit must awar defam   \n",
       "2      20030219     g call infrastructur protect summit   \n",
       "3      20030219       air nz staff aust strike pay rise   \n",
       "4      20030219  air nz strike affect australian travel   \n",
       "\n",
       "          actual_category                  BERT  \n",
       "0                  others                sports  \n",
       "1                  others  business and economy  \n",
       "2  environment and energy                sports  \n",
       "3                  others  business and economy  \n",
       "4                  others                sports  "
      ]
     },
     "execution_count": 29,
     "metadata": {},
     "output_type": "execute_result"
    }
   ],
   "source": [
    "model_results\n",
    "\n",
    "# statistics of BERT prediction\n",
    "data['BERT'] = model_results['BERT']\n",
    "data.head()\n"
   ]
  },
  {
   "cell_type": "code",
   "execution_count": 30,
   "metadata": {},
   "outputs": [
    {
     "data": {
      "text/plain": [
       "BERT\n",
       "sports                    32260\n",
       "business and economy      11012\n",
       "crime and justice          3330\n",
       "entertainment and arts     1393\n",
       "science and technology     1266\n",
       "health and medicine         320\n",
       "politics and law            274\n",
       "environment and energy      145\n",
       "Name: count, dtype: int64"
      ]
     },
     "execution_count": 30,
     "metadata": {},
     "output_type": "execute_result"
    }
   ],
   "source": [
    "data['BERT'].value_counts()"
   ]
  },
  {
   "cell_type": "code",
   "execution_count": 31,
   "metadata": {},
   "outputs": [
    {
     "data": {
      "image/png": "[encoded data removed]",
      "text/plain": [
       "<Figure size 1200x500 with 1 Axes>"
      ]
     },
     "metadata": {},
     "output_type": "display_data"
    }
   ],
   "source": [
    "# bar chart of predicted categories distribution\n",
    "plt.figure(figsize=(12, 5))\n",
    "plt.title('Predicted Categories Distribution (BERT)')\n",
    "data['BERT'].value_counts().plot(kind='bar')\n",
    "plt.xlabel('Categories')\n",
    "plt.ylabel('Counts')\n",
    "plt.show()"
   ]
  },
  {
   "cell_type": "markdown",
   "metadata": {},
   "source": [
    "## 3.2 BART - Modeling"
   ]
  },
  {
   "cell_type": "code",
   "execution_count": 32,
   "metadata": {},
   "outputs": [],
   "source": [
    "inputs_categories = bart_tokenizer(category_keywords, return_tensors='pt', padding=True, truncation=True, max_length=512).to(bart_model.device)\n",
    "with torch.no_grad():\n",
    "    outputs_categories = bart_model(**inputs_categories)\n",
    "category_embeddings = outputs_categories.encoder_last_hidden_state.mean(dim=1).cpu()"
   ]
  },
  {
   "cell_type": "code",
   "execution_count": 33,
   "metadata": {},
   "outputs": [
    {
     "data": {
      "text/plain": [
       "torch.Size([8, 768])"
      ]
     },
     "execution_count": 33,
     "metadata": {},
     "output_type": "execute_result"
    }
   ],
   "source": [
    "category_embeddings.shape"
   ]
  },
  {
   "cell_type": "code",
   "execution_count": 34,
   "metadata": {},
   "outputs": [
    {
     "data": {
      "image/png": "[encoded data removed]",
      "text/plain": [
       "<Figure size 800x600 with 1 Axes>"
      ]
     },
     "metadata": {},
     "output_type": "display_data"
    }
   ],
   "source": [
    "pca = PCA(n_components=min(2, category_embeddings.shape[0]))\n",
    "reduced_embeddings = pca.fit_transform(category_embeddings.numpy())\n",
    "plt.figure(figsize=(8, 6))\n",
    "for i, label in enumerate(category_names):\n",
    "    plt.scatter(reduced_embeddings[i, 0], reduced_embeddings[i, 1], label=label)\n",
    "plt.title(\"Category Embeddings Visualization (BART)\")\n",
    "plt.xlabel(\"Principal Component 1\")\n",
    "plt.ylabel(\"Principal Component 2\")\n",
    "plt.legend()\n",
    "plt.show()"
   ]
  },
  {
   "cell_type": "code",
   "execution_count": 35,
   "metadata": {},
   "outputs": [],
   "source": [
    "batch_size = 100  # Adjust batch size based on your GPU memory\n",
    "headline_embeddings = []\n",
    "\n",
    "for i in range(0, len(preprocessed_headlines), batch_size):\n",
    "    batch_headlines = preprocessed_headlines[i:i+batch_size]\n",
    "    inputs_headlines = bart_tokenizer(batch_headlines.tolist(), return_tensors='pt', padding=True, truncation=True, max_length=512).to('cuda')\n",
    "    with torch.no_grad():\n",
    "        with torch.cuda.amp.autocast():\n",
    "            outputs_headlines = bart_model(**inputs_headlines)\n",
    "    batch_embeddings = outputs_headlines.encoder_last_hidden_state.mean(dim=1).cpu()\n",
    "    headline_embeddings.append(batch_embeddings)\n",
    "\n",
    "headline_embeddings = torch.cat(headline_embeddings)\n",
    "\n",
    "del inputs_headlines, outputs_headlines\n",
    "torch.cuda.empty_cache()"
   ]
  },
  {
   "cell_type": "code",
   "execution_count": 36,
   "metadata": {},
   "outputs": [
    {
     "data": {
      "text/plain": [
       "torch.Size([50000, 768])"
      ]
     },
     "execution_count": 36,
     "metadata": {},
     "output_type": "execute_result"
    }
   ],
   "source": [
    "headline_embeddings.shape"
   ]
  },
  {
   "cell_type": "code",
   "execution_count": 37,
   "metadata": {},
   "outputs": [
    {
     "name": "stdout",
     "output_type": "stream",
     "text": [
      "Predictions for BART model generated successfully!\n"
     ]
    }
   ],
   "source": [
    "# Calculate similarity and classify\n",
    "similarities = cosine_similarity(headline_embeddings, category_embeddings)\n",
    "predicted_categories = [category_names[idx] for idx in np.argmax(similarities, axis=1)]\n",
    "\n",
    "# Store results\n",
    "model_results['BART'] = predicted_categories\n",
    "\n",
    "print(f\"Predictions for BART model generated successfully!\")"
   ]
  },
  {
   "cell_type": "code",
   "execution_count": 38,
   "metadata": {},
   "outputs": [
    {
     "data": {
      "text/html": [
       "<div>\n",
       "<style scoped>\n",
       "    .dataframe tbody tr th:only-of-type {\n",
       "        vertical-align: middle;\n",
       "    }\n",
       "\n",
       "    .dataframe tbody tr th {\n",
       "        vertical-align: top;\n",
       "    }\n",
       "\n",
       "    .dataframe thead th {\n",
       "        text-align: right;\n",
       "    }\n",
       "</style>\n",
       "<table border=\"1\" class=\"dataframe\">\n",
       "  <thead>\n",
       "    <tr style=\"text-align: right;\">\n",
       "      <th></th>\n",
       "      <th>publish_date</th>\n",
       "      <th>text</th>\n",
       "      <th>actual_category</th>\n",
       "      <th>BERT</th>\n",
       "      <th>BART</th>\n",
       "    </tr>\n",
       "  </thead>\n",
       "  <tbody>\n",
       "    <tr>\n",
       "      <th>0</th>\n",
       "      <td>20030219</td>\n",
       "      <td>aba decid commun broadcast licenc</td>\n",
       "      <td>others</td>\n",
       "      <td>sports</td>\n",
       "      <td>sports</td>\n",
       "    </tr>\n",
       "    <tr>\n",
       "      <th>1</th>\n",
       "      <td>20030219</td>\n",
       "      <td>act fire wit must awar defam</td>\n",
       "      <td>others</td>\n",
       "      <td>business and economy</td>\n",
       "      <td>sports</td>\n",
       "    </tr>\n",
       "    <tr>\n",
       "      <th>2</th>\n",
       "      <td>20030219</td>\n",
       "      <td>g call infrastructur protect summit</td>\n",
       "      <td>environment and energy</td>\n",
       "      <td>sports</td>\n",
       "      <td>entertainment and arts</td>\n",
       "    </tr>\n",
       "    <tr>\n",
       "      <th>3</th>\n",
       "      <td>20030219</td>\n",
       "      <td>air nz staff aust strike pay rise</td>\n",
       "      <td>others</td>\n",
       "      <td>business and economy</td>\n",
       "      <td>sports</td>\n",
       "    </tr>\n",
       "    <tr>\n",
       "      <th>4</th>\n",
       "      <td>20030219</td>\n",
       "      <td>air nz strike affect australian travel</td>\n",
       "      <td>others</td>\n",
       "      <td>sports</td>\n",
       "      <td>sports</td>\n",
       "    </tr>\n",
       "  </tbody>\n",
       "</table>\n",
       "</div>"
      ],
      "text/plain": [
       "   publish_date                                    text  \\\n",
       "0      20030219       aba decid commun broadcast licenc   \n",
       "1      20030219            act fire wit must awar defam   \n",
       "2      20030219     g call infrastructur protect summit   \n",
       "3      20030219       air nz staff aust strike pay rise   \n",
       "4      20030219  air nz strike affect australian travel   \n",
       "\n",
       "          actual_category                  BERT                    BART  \n",
       "0                  others                sports                  sports  \n",
       "1                  others  business and economy                  sports  \n",
       "2  environment and energy                sports  entertainment and arts  \n",
       "3                  others  business and economy                  sports  \n",
       "4                  others                sports                  sports  "
      ]
     },
     "execution_count": 38,
     "metadata": {},
     "output_type": "execute_result"
    }
   ],
   "source": [
    "model_results\n",
    "\n",
    "# statistics of BERT prediction\n",
    "data['BART'] = model_results['BART']\n",
    "data.head()\n"
   ]
  },
  {
   "cell_type": "code",
   "execution_count": 39,
   "metadata": {},
   "outputs": [
    {
     "data": {
      "text/plain": [
       "BART\n",
       "sports                    43214\n",
       "entertainment and arts     5854\n",
       "business and economy        928\n",
       "health and medicine           2\n",
       "crime and justice             1\n",
       "environment and energy        1\n",
       "Name: count, dtype: int64"
      ]
     },
     "execution_count": 39,
     "metadata": {},
     "output_type": "execute_result"
    }
   ],
   "source": [
    "data['BART'].value_counts()"
   ]
  },
  {
   "cell_type": "code",
   "execution_count": 40,
   "metadata": {},
   "outputs": [
    {
     "data": {
      "image/png": "[encoded data removed]",
      "text/plain": [
       "<Figure size 1200x500 with 1 Axes>"
      ]
     },
     "metadata": {},
     "output_type": "display_data"
    }
   ],
   "source": [
    "# bar chart of predicted categories distribution\n",
    "plt.figure(figsize=(12, 5))\n",
    "plt.title('Predicted Categories Distribution')\n",
    "data['BART'].value_counts().plot(kind='bar')\n",
    "plt.xlabel('Categories')\n",
    "plt.ylabel('Counts')\n",
    "plt.show()"
   ]
  },
  {
   "cell_type": "markdown",
   "metadata": {},
   "source": [
    "## 3.3 GPT-2"
   ]
  },
  {
   "cell_type": "code",
   "execution_count": 31,
   "metadata": {},
   "outputs": [],
   "source": [
    "# Set pad_token to eos_token\n",
    "gpt2_tokenizer.pad_token = gpt2_tokenizer.eos_token\n",
    "\n",
    "# Use mixed precision for inference\n",
    "# Move inputs to the same device as the model\n",
    "inputs_categories = gpt2_tokenizer(category_keywords, return_tensors='pt', padding=True, truncation=True, max_length=512).to(gpt2_model.device)\n",
    "\n",
    "# Ensure model and input are on the same device\n",
    "with torch.no_grad():\n",
    "    with torch.cuda.amp.autocast():\n",
    "        outputs_categories = gpt2_model(**inputs_categories)\n",
    "\n",
    "category_embeddings = outputs_categories.last_hidden_state.mean(dim=1).cpu()\n",
    "\n",
    "\n",
    "category_embeddings.shape\n",
    "\n",
    "# delete cuda memory\n",
    "del inputs_categories, outputs_categories\n",
    "torch.cuda.empty_cache()"
   ]
  },
  {
   "cell_type": "code",
   "execution_count": 32,
   "metadata": {},
   "outputs": [
    {
     "data": {
      "image/png": "[encoded data removed]",
      "text/plain": [
       "<Figure size 800x600 with 1 Axes>"
      ]
     },
     "metadata": {},
     "output_type": "display_data"
    }
   ],
   "source": [
    "pca = PCA(n_components=min(2, category_embeddings.shape[0]))\n",
    "reduced_embeddings = pca.fit_transform(category_embeddings.numpy())\n",
    "plt.figure(figsize=(8, 6))\n",
    "for i, label in enumerate(category_names):\n",
    "    plt.scatter(reduced_embeddings[i, 0], reduced_embeddings[i, 1], label=label)\n",
    "plt.title(\"Category Embeddings Visualization (GPT-2)\")\n",
    "plt.xlabel(\"Principal Component 1\")\n",
    "plt.ylabel(\"Principal Component 2\")\n",
    "plt.legend()\n",
    "plt.grid(True)\n",
    "plt.show()"
   ]
  },
  {
   "cell_type": "code",
   "execution_count": null,
   "metadata": {},
   "outputs": [],
   "source": [
    "batch_size = 100  # Adjust batch size based on your GPU memory\n",
    "headline_embeddings = []\n",
    "\n",
    "for i in range(0, len(preprocessed_headlines), batch_size):\n",
    "    batch_headlines = preprocessed_headlines[i:i+batch_size]\n",
    "    # Ensure inputs_headlines is on the same device as the model\n",
    "    inputs_headlines = gpt2_tokenizer(batch_headlines.tolist(), return_tensors='pt', padding=True, truncation=True, max_length=512).to(gpt2_model.device)\n",
    "\n",
    "    # Generate embeddings\n",
    "    with torch.no_grad():\n",
    "        with torch.cuda.amp.autocast():\n",
    "            outputs_headlines = gpt2_model(**inputs_headlines)\n",
    "\n",
    "    batch_embeddings = outputs_headlines.last_hidden_state.mean(dim=1).cpu()\n",
    "    headline_embeddings.append(batch_embeddings)\n",
    "\n",
    "\n",
    "headline_embeddings = torch.cat(headline_embeddings)\n",
    "\n",
    "del inputs_headlines, outputs_headlines\n",
    "torch.cuda.empty_cache()"
   ]
  },
  {
   "cell_type": "code",
   "execution_count": null,
   "metadata": {},
   "outputs": [],
   "source": [
    "similarities = cosine_similarity(headline_embeddings, category_embeddings)\n",
    "predicted_categories = [category_names[idx] for idx in np.argmax(similarities, axis=1)]\n",
    "data['GPT2_pred'] = predicted_categories"
   ]
  },
  {
   "cell_type": "code",
   "execution_count": null,
   "metadata": {},
   "outputs": [],
   "source": [
    "plt.figure(figsize=(8, 6))\n",
    "plt.bar(category_names, np.bincount([category_names.index(c) for c in predicted_categories], minlength=len(category_names)))\n",
    "plt.title(\"GPT-2 Predicted Categories Distribution\")\n",
    "plt.xlabel(\"Categories\")\n",
    "plt.ylabel(\"Count\")\n",
    "plt.show()"
   ]
  },
  {
   "cell_type": "markdown",
   "metadata": {},
   "source": [
    "## 3.4 RoBERTa"
   ]
  },
  {
   "cell_type": "code",
   "execution_count": null,
   "metadata": {},
   "outputs": [],
   "source": [
    "inputs_categories = roberta_tokenizer(category_keywords, return_tensors='pt', padding=True, truncation=True, max_length=512)\n",
    "with torch.no_grad():\n",
    "    outputs_categories = roberta_model(**inputs_categories)\n",
    "category_embeddings = outputs_categories.last_hidden_state.mean(dim=1).cpu()"
   ]
  },
  {
   "cell_type": "code",
   "execution_count": null,
   "metadata": {},
   "outputs": [],
   "source": [
    "pca = PCA(n_components=min(2, category_embeddings.shape[0]))\n",
    "reduced_embeddings = pca.fit_transform(category_embeddings.numpy())\n",
    "plt.figure(figsize=(8, 6))\n",
    "for i, label in enumerate(category_names):\n",
    "    plt.scatter(reduced_embeddings[i, 0], reduced_embeddings[i, 1], label=label)\n",
    "plt.title(\"Category Embeddings Visualization (RoBERTa)\")\n",
    "plt.xlabel(\"Principal Component 1\")\n",
    "plt.ylabel(\"Principal Component 2\")\n",
    "plt.legend()\n",
    "plt.grid(True)\n",
    "plt.savefig(\"category_embeddings_RoBERTa.png\")\n",
    "plt.show()"
   ]
  },
  {
   "cell_type": "code",
   "execution_count": null,
   "metadata": {},
   "outputs": [],
   "source": [
    "inputs_headlines = roberta_tokenizer(preprocessed_headlines.tolist(), return_tensors='pt', padding=True, truncation=True, max_length=512)\n",
    "with torch.no_grad():\n",
    "    outputs_headlines = roberta_model(**inputs_headlines)\n",
    "headline_embeddings = outputs_headlines.last_hidden_state.mean(dim=1).cpu()"
   ]
  },
  {
   "cell_type": "code",
   "execution_count": null,
   "metadata": {},
   "outputs": [],
   "source": [
    "similarities = cosine_similarity(headline_embeddings, category_embeddings)\n",
    "predicted_categories = [category_names[idx] for idx in np.argmax(similarities, axis=1)]\n",
    "data['RoBERTa_pred'] = predicted_categories"
   ]
  },
  {
   "cell_type": "code",
   "execution_count": null,
   "metadata": {},
   "outputs": [],
   "source": [
    "plt.figure(figsize=(8, 6))\n",
    "plt.bar(category_names, np.bincount([category_names.index(c) for c in predicted_categories], minlength=len(category_names)))\n",
    "plt.title(\"RoBERTa Predicted Categories Distribution\")\n",
    "plt.xlabel(\"Categories\")\n",
    "plt.ylabel(\"Count\")\n",
    "plt.show()"
   ]
  },
  {
   "cell_type": "code",
   "execution_count": null,
   "metadata": {},
   "outputs": [],
   "source": []
  }
 ],
 "metadata": {
  "kernelspec": {
   "display_name": "Python 3",
   "language": "python",
   "name": "python3"
  },
  "language_info": {
   "codemirror_mode": {
    "name": "ipython",
    "version": 3
   },
   "file_extension": ".py",
   "mimetype": "text/x-python",
   "name": "python",
   "nbconvert_exporter": "python",
   "pygments_lexer": "ipython3",
   "version": "3.9.7"
  }
 },
 "nbformat": 4,
 "nbformat_minor": 2
}
